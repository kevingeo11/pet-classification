{
 "cells": [
  {
   "cell_type": "markdown",
   "metadata": {
    "colab_type": "text",
    "id": "0MRC0e0KhQ0S"
   },
   "source": [
    "# Artificial Neural Network"
   ]
  },
  {
   "cell_type": "code",
   "execution_count": 2,
   "metadata": {
    "colab": {},
    "colab_type": "code",
    "id": "CWbae25Jrt7p"
   },
   "outputs": [
    {
     "ename": "ModuleNotFoundError",
     "evalue": "No module named 'tensorflow'",
     "output_type": "error",
     "traceback": [
      "\u001b[0;31m---------------------------------------------------------------------------\u001b[0m",
      "\u001b[0;31mModuleNotFoundError\u001b[0m                       Traceback (most recent call last)",
      "\u001b[0;32m<ipython-input-2-f293940400e5>\u001b[0m in \u001b[0;36m<module>\u001b[0;34m\u001b[0m\n\u001b[1;32m      1\u001b[0m \u001b[0;32mimport\u001b[0m \u001b[0mnumpy\u001b[0m \u001b[0;32mas\u001b[0m \u001b[0mnp\u001b[0m\u001b[0;34m\u001b[0m\u001b[0;34m\u001b[0m\u001b[0m\n\u001b[1;32m      2\u001b[0m \u001b[0;32mimport\u001b[0m \u001b[0mpandas\u001b[0m \u001b[0;32mas\u001b[0m \u001b[0mpd\u001b[0m\u001b[0;34m\u001b[0m\u001b[0;34m\u001b[0m\u001b[0m\n\u001b[0;32m----> 3\u001b[0;31m \u001b[0;32mimport\u001b[0m \u001b[0mtensorflow\u001b[0m \u001b[0;32mas\u001b[0m \u001b[0mtf\u001b[0m\u001b[0;34m\u001b[0m\u001b[0;34m\u001b[0m\u001b[0m\n\u001b[0m\u001b[1;32m      4\u001b[0m \u001b[0;32mfrom\u001b[0m \u001b[0msklearn\u001b[0m\u001b[0;34m.\u001b[0m\u001b[0mpreprocessing\u001b[0m \u001b[0;32mimport\u001b[0m \u001b[0mLabelEncoder\u001b[0m\u001b[0;34m\u001b[0m\u001b[0;34m\u001b[0m\u001b[0m\n\u001b[1;32m      5\u001b[0m \u001b[0;32mfrom\u001b[0m \u001b[0msklearn\u001b[0m\u001b[0;34m.\u001b[0m\u001b[0mpreprocessing\u001b[0m \u001b[0;32mimport\u001b[0m \u001b[0mOneHotEncoder\u001b[0m\u001b[0;34m\u001b[0m\u001b[0;34m\u001b[0m\u001b[0m\n",
      "\u001b[0;31mModuleNotFoundError\u001b[0m: No module named 'tensorflow'"
     ]
    }
   ],
   "source": [
    "import numpy as np\n",
    "import pandas as pd\n",
    "import tensorflow as tf\n",
    "from sklearn.preprocessing import LabelEncoder\n",
    "from sklearn.preprocessing import OneHotEncoder\n",
    "from sklearn.model_selection import train_test_split\n",
    "from sklearn.preprocessing import StandardScaler\n",
    "from sklearn.metrics import confusion_matrix\n",
    "from sklearn.metrics import f1_score\n",
    "import joblib"
   ]
  },
  {
   "cell_type": "code",
   "execution_count": null,
   "metadata": {
    "colab": {},
    "colab_type": "code",
    "id": "Sr3kJM9Zrt7x"
   },
   "outputs": [],
   "source": [
    "data = pd.read_csv(\"train.csv\")"
   ]
  },
  {
   "cell_type": "code",
   "execution_count": null,
   "metadata": {
    "colab": {
     "base_uri": "https://localhost:8080/",
     "height": 309
    },
    "colab_type": "code",
    "id": "icbTv-78rt77",
    "outputId": "8bbd2683-c0ff-4128-ee70-4c0702272e25"
   },
   "outputs": [],
   "source": [
    "data.head()"
   ]
  },
  {
   "cell_type": "code",
   "execution_count": null,
   "metadata": {
    "colab": {
     "base_uri": "https://localhost:8080/",
     "height": 323
    },
    "colab_type": "code",
    "id": "-cg-Th4qrt8C",
    "outputId": "8fa0ee12-8feb-4ba8-82e5-12d39ad3a08e"
   },
   "outputs": [],
   "source": [
    "data.info()"
   ]
  },
  {
   "cell_type": "markdown",
   "metadata": {
    "colab_type": "text",
    "id": "Pv_xHR4xrt8L"
   },
   "source": [
    "## Impute Missing Data"
   ]
  },
  {
   "cell_type": "code",
   "execution_count": 316,
   "metadata": {
    "colab": {
     "base_uri": "https://localhost:8080/",
     "height": 85
    },
    "colab_type": "code",
    "id": "ARxqPCCGuVlD",
    "outputId": "3a541d52-9712-4510-922d-0343b560334a"
   },
   "outputs": [
    {
     "data": {
      "text/plain": [
       "1.0    6819\n",
       "0.0    6281\n",
       "2.0    4257\n",
       "Name: condition, dtype: int64"
      ]
     },
     "execution_count": 316,
     "metadata": {
      "tags": []
     },
     "output_type": "execute_result"
    }
   ],
   "source": [
    "data[\"condition\"].value_counts()"
   ]
  },
  {
   "cell_type": "code",
   "execution_count": 317,
   "metadata": {
    "colab": {},
    "colab_type": "code",
    "id": "uuFMWe3Jrt8M"
   },
   "outputs": [],
   "source": [
    "data[\"condition\"] = data[\"condition\"].fillna(3.0)"
   ]
  },
  {
   "cell_type": "code",
   "execution_count": 318,
   "metadata": {
    "colab": {
     "base_uri": "https://localhost:8080/",
     "height": 309
    },
    "colab_type": "code",
    "id": "lvYUvv3Jrt8b",
    "outputId": "9ce476dd-8168-42ab-d585-9451f301f734"
   },
   "outputs": [
    {
     "data": {
      "text/html": [
       "<div>\n",
       "<style scoped>\n",
       "    .dataframe tbody tr th:only-of-type {\n",
       "        vertical-align: middle;\n",
       "    }\n",
       "\n",
       "    .dataframe tbody tr th {\n",
       "        vertical-align: top;\n",
       "    }\n",
       "\n",
       "    .dataframe thead th {\n",
       "        text-align: right;\n",
       "    }\n",
       "</style>\n",
       "<table border=\"1\" class=\"dataframe\">\n",
       "  <thead>\n",
       "    <tr style=\"text-align: right;\">\n",
       "      <th></th>\n",
       "      <th>pet_id</th>\n",
       "      <th>issue_date</th>\n",
       "      <th>listing_date</th>\n",
       "      <th>condition</th>\n",
       "      <th>color_type</th>\n",
       "      <th>length(m)</th>\n",
       "      <th>height(cm)</th>\n",
       "      <th>X1</th>\n",
       "      <th>X2</th>\n",
       "      <th>breed_category</th>\n",
       "      <th>pet_category</th>\n",
       "    </tr>\n",
       "  </thead>\n",
       "  <tbody>\n",
       "    <tr>\n",
       "      <th>0</th>\n",
       "      <td>ANSL_69903</td>\n",
       "      <td>2016-07-10 00:00:00</td>\n",
       "      <td>2016-09-21 16:25:00</td>\n",
       "      <td>2.0</td>\n",
       "      <td>Brown Tabby</td>\n",
       "      <td>0.80</td>\n",
       "      <td>7.78</td>\n",
       "      <td>13</td>\n",
       "      <td>9</td>\n",
       "      <td>0.0</td>\n",
       "      <td>1</td>\n",
       "    </tr>\n",
       "    <tr>\n",
       "      <th>1</th>\n",
       "      <td>ANSL_66892</td>\n",
       "      <td>2013-11-21 00:00:00</td>\n",
       "      <td>2018-12-27 17:47:00</td>\n",
       "      <td>1.0</td>\n",
       "      <td>White</td>\n",
       "      <td>0.72</td>\n",
       "      <td>14.19</td>\n",
       "      <td>13</td>\n",
       "      <td>9</td>\n",
       "      <td>0.0</td>\n",
       "      <td>2</td>\n",
       "    </tr>\n",
       "    <tr>\n",
       "      <th>2</th>\n",
       "      <td>ANSL_69750</td>\n",
       "      <td>2014-09-28 00:00:00</td>\n",
       "      <td>2016-10-19 08:24:00</td>\n",
       "      <td>3.0</td>\n",
       "      <td>Brown</td>\n",
       "      <td>0.15</td>\n",
       "      <td>40.90</td>\n",
       "      <td>15</td>\n",
       "      <td>4</td>\n",
       "      <td>2.0</td>\n",
       "      <td>4</td>\n",
       "    </tr>\n",
       "    <tr>\n",
       "      <th>3</th>\n",
       "      <td>ANSL_71623</td>\n",
       "      <td>2016-12-31 00:00:00</td>\n",
       "      <td>2019-01-25 18:30:00</td>\n",
       "      <td>1.0</td>\n",
       "      <td>White</td>\n",
       "      <td>0.62</td>\n",
       "      <td>17.82</td>\n",
       "      <td>0</td>\n",
       "      <td>1</td>\n",
       "      <td>0.0</td>\n",
       "      <td>2</td>\n",
       "    </tr>\n",
       "    <tr>\n",
       "      <th>4</th>\n",
       "      <td>ANSL_57969</td>\n",
       "      <td>2017-09-28 00:00:00</td>\n",
       "      <td>2017-11-19 09:38:00</td>\n",
       "      <td>2.0</td>\n",
       "      <td>Black</td>\n",
       "      <td>0.50</td>\n",
       "      <td>11.06</td>\n",
       "      <td>18</td>\n",
       "      <td>4</td>\n",
       "      <td>0.0</td>\n",
       "      <td>1</td>\n",
       "    </tr>\n",
       "  </tbody>\n",
       "</table>\n",
       "</div>"
      ],
      "text/plain": [
       "       pet_id           issue_date  ... breed_category  pet_category\n",
       "0  ANSL_69903  2016-07-10 00:00:00  ...            0.0             1\n",
       "1  ANSL_66892  2013-11-21 00:00:00  ...            0.0             2\n",
       "2  ANSL_69750  2014-09-28 00:00:00  ...            2.0             4\n",
       "3  ANSL_71623  2016-12-31 00:00:00  ...            0.0             2\n",
       "4  ANSL_57969  2017-09-28 00:00:00  ...            0.0             1\n",
       "\n",
       "[5 rows x 11 columns]"
      ]
     },
     "execution_count": 318,
     "metadata": {
      "tags": []
     },
     "output_type": "execute_result"
    }
   ],
   "source": [
    "data.head()"
   ]
  },
  {
   "cell_type": "code",
   "execution_count": 319,
   "metadata": {
    "colab": {
     "base_uri": "https://localhost:8080/",
     "height": 102
    },
    "colab_type": "code",
    "id": "zHkRwtWOrt8h",
    "outputId": "941764c3-2f23-413e-a0da-ec04c03b9154"
   },
   "outputs": [
    {
     "data": {
      "text/plain": [
       "1.0    6819\n",
       "0.0    6281\n",
       "2.0    4257\n",
       "3.0    1477\n",
       "Name: condition, dtype: int64"
      ]
     },
     "execution_count": 319,
     "metadata": {
      "tags": []
     },
     "output_type": "execute_result"
    }
   ],
   "source": [
    "data[\"condition\"].value_counts()"
   ]
  },
  {
   "cell_type": "markdown",
   "metadata": {
    "colab_type": "text",
    "id": "5E4HcDgort8n"
   },
   "source": [
    "## Encode Data"
   ]
  },
  {
   "cell_type": "markdown",
   "metadata": {
    "colab_type": "text",
    "id": "DyOPQfTrrt8o"
   },
   "source": [
    "### Encode Independent variable"
   ]
  },
  {
   "cell_type": "code",
   "execution_count": 320,
   "metadata": {
    "colab": {},
    "colab_type": "code",
    "id": "y6CXsjnVrt8p"
   },
   "outputs": [],
   "source": [
    "#le = LabelEncoder()\n",
    "#data[\"color_type\"] = le.fit_transform(data[\"color_type\"])"
   ]
  },
  {
   "cell_type": "code",
   "execution_count": 321,
   "metadata": {
    "colab": {
     "base_uri": "https://localhost:8080/",
     "height": 309
    },
    "colab_type": "code",
    "id": "bhb1ll8grt8v",
    "outputId": "66b2276a-9c73-4816-f2f6-87344715316d"
   },
   "outputs": [
    {
     "data": {
      "text/html": [
       "<div>\n",
       "<style scoped>\n",
       "    .dataframe tbody tr th:only-of-type {\n",
       "        vertical-align: middle;\n",
       "    }\n",
       "\n",
       "    .dataframe tbody tr th {\n",
       "        vertical-align: top;\n",
       "    }\n",
       "\n",
       "    .dataframe thead th {\n",
       "        text-align: right;\n",
       "    }\n",
       "</style>\n",
       "<table border=\"1\" class=\"dataframe\">\n",
       "  <thead>\n",
       "    <tr style=\"text-align: right;\">\n",
       "      <th></th>\n",
       "      <th>pet_id</th>\n",
       "      <th>issue_date</th>\n",
       "      <th>listing_date</th>\n",
       "      <th>condition</th>\n",
       "      <th>color_type</th>\n",
       "      <th>length(m)</th>\n",
       "      <th>height(cm)</th>\n",
       "      <th>X1</th>\n",
       "      <th>X2</th>\n",
       "      <th>breed_category</th>\n",
       "      <th>pet_category</th>\n",
       "    </tr>\n",
       "  </thead>\n",
       "  <tbody>\n",
       "    <tr>\n",
       "      <th>0</th>\n",
       "      <td>ANSL_69903</td>\n",
       "      <td>2016-07-10 00:00:00</td>\n",
       "      <td>2016-09-21 16:25:00</td>\n",
       "      <td>2.0</td>\n",
       "      <td>Brown Tabby</td>\n",
       "      <td>0.80</td>\n",
       "      <td>7.78</td>\n",
       "      <td>13</td>\n",
       "      <td>9</td>\n",
       "      <td>0.0</td>\n",
       "      <td>1</td>\n",
       "    </tr>\n",
       "    <tr>\n",
       "      <th>1</th>\n",
       "      <td>ANSL_66892</td>\n",
       "      <td>2013-11-21 00:00:00</td>\n",
       "      <td>2018-12-27 17:47:00</td>\n",
       "      <td>1.0</td>\n",
       "      <td>White</td>\n",
       "      <td>0.72</td>\n",
       "      <td>14.19</td>\n",
       "      <td>13</td>\n",
       "      <td>9</td>\n",
       "      <td>0.0</td>\n",
       "      <td>2</td>\n",
       "    </tr>\n",
       "    <tr>\n",
       "      <th>2</th>\n",
       "      <td>ANSL_69750</td>\n",
       "      <td>2014-09-28 00:00:00</td>\n",
       "      <td>2016-10-19 08:24:00</td>\n",
       "      <td>3.0</td>\n",
       "      <td>Brown</td>\n",
       "      <td>0.15</td>\n",
       "      <td>40.90</td>\n",
       "      <td>15</td>\n",
       "      <td>4</td>\n",
       "      <td>2.0</td>\n",
       "      <td>4</td>\n",
       "    </tr>\n",
       "    <tr>\n",
       "      <th>3</th>\n",
       "      <td>ANSL_71623</td>\n",
       "      <td>2016-12-31 00:00:00</td>\n",
       "      <td>2019-01-25 18:30:00</td>\n",
       "      <td>1.0</td>\n",
       "      <td>White</td>\n",
       "      <td>0.62</td>\n",
       "      <td>17.82</td>\n",
       "      <td>0</td>\n",
       "      <td>1</td>\n",
       "      <td>0.0</td>\n",
       "      <td>2</td>\n",
       "    </tr>\n",
       "    <tr>\n",
       "      <th>4</th>\n",
       "      <td>ANSL_57969</td>\n",
       "      <td>2017-09-28 00:00:00</td>\n",
       "      <td>2017-11-19 09:38:00</td>\n",
       "      <td>2.0</td>\n",
       "      <td>Black</td>\n",
       "      <td>0.50</td>\n",
       "      <td>11.06</td>\n",
       "      <td>18</td>\n",
       "      <td>4</td>\n",
       "      <td>0.0</td>\n",
       "      <td>1</td>\n",
       "    </tr>\n",
       "  </tbody>\n",
       "</table>\n",
       "</div>"
      ],
      "text/plain": [
       "       pet_id           issue_date  ... breed_category  pet_category\n",
       "0  ANSL_69903  2016-07-10 00:00:00  ...            0.0             1\n",
       "1  ANSL_66892  2013-11-21 00:00:00  ...            0.0             2\n",
       "2  ANSL_69750  2014-09-28 00:00:00  ...            2.0             4\n",
       "3  ANSL_71623  2016-12-31 00:00:00  ...            0.0             2\n",
       "4  ANSL_57969  2017-09-28 00:00:00  ...            0.0             1\n",
       "\n",
       "[5 rows x 11 columns]"
      ]
     },
     "execution_count": 321,
     "metadata": {
      "tags": []
     },
     "output_type": "execute_result"
    }
   ],
   "source": [
    "data.head()"
   ]
  },
  {
   "cell_type": "code",
   "execution_count": 322,
   "metadata": {
    "colab": {},
    "colab_type": "code",
    "id": "vTdLlYXbxB5c"
   },
   "outputs": [],
   "source": [
    "color_type_enc = OneHotEncoder()\n",
    "color_type_1h = color_type_enc.fit_transform(data[[\"color_type\"]])"
   ]
  },
  {
   "cell_type": "code",
   "execution_count": 323,
   "metadata": {
    "colab": {},
    "colab_type": "code",
    "id": "9gG7DM-OxNLC"
   },
   "outputs": [],
   "source": [
    "X = data[[\"condition\", \"length(m)\", \"height(cm)\", \"X1\", \"X2\"]].values"
   ]
  },
  {
   "cell_type": "code",
   "execution_count": 324,
   "metadata": {
    "colab": {},
    "colab_type": "code",
    "id": "7yqtFhGlz9gu"
   },
   "outputs": [],
   "source": [
    "X = np.concatenate((X,color_type_1h.toarray()), axis=1)"
   ]
  },
  {
   "cell_type": "code",
   "execution_count": 339,
   "metadata": {
    "colab": {
     "base_uri": "https://localhost:8080/",
     "height": 153
    },
    "colab_type": "code",
    "id": "dWlIsfhz0wOd",
    "outputId": "e593a854-c76e-4820-dcfe-361bd6847b23"
   },
   "outputs": [
    {
     "name": "stdout",
     "output_type": "stream",
     "text": [
      "[[ 2.    0.8   7.78 ...  0.    0.    0.  ]\n",
      " [ 1.    0.72 14.19 ...  1.    0.    0.  ]\n",
      " [ 3.    0.15 40.9  ...  0.    0.    0.  ]\n",
      " ...\n",
      " [ 0.    0.99 28.13 ...  0.    0.    0.  ]\n",
      " [ 0.    0.55 44.82 ...  0.    0.    0.  ]\n",
      " [ 0.    0.86 37.4  ...  0.    0.    0.  ]]\n",
      "(18834, 61)\n"
     ]
    }
   ],
   "source": [
    "print(X)\n",
    "print(X.shape)"
   ]
  },
  {
   "cell_type": "markdown",
   "metadata": {
    "colab_type": "text",
    "id": "LDdVjA6E6FaV"
   },
   "source": [
    "### Encode Dependent variable"
   ]
  },
  {
   "cell_type": "code",
   "execution_count": 340,
   "metadata": {
    "colab": {},
    "colab_type": "code",
    "id": "bT8DzfNa025P"
   },
   "outputs": [],
   "source": [
    "enc_y1 = OneHotEncoder()\n",
    "y = enc_y1.fit_transform(data[[\"breed_category\"]]).toarray()"
   ]
  },
  {
   "cell_type": "code",
   "execution_count": 341,
   "metadata": {
    "colab": {
     "base_uri": "https://localhost:8080/",
     "height": 136
    },
    "colab_type": "code",
    "id": "yHd1IgUP21TU",
    "outputId": "de0cdd75-b7da-4a44-ef56-43d046dedf74"
   },
   "outputs": [
    {
     "name": "stdout",
     "output_type": "stream",
     "text": [
      "[[1. 0. 0.]\n",
      " [1. 0. 0.]\n",
      " [0. 0. 1.]\n",
      " ...\n",
      " [0. 1. 0.]\n",
      " [0. 1. 0.]\n",
      " [0. 1. 0.]]\n"
     ]
    }
   ],
   "source": [
    "print(y)"
   ]
  },
  {
   "cell_type": "markdown",
   "metadata": {
    "colab_type": "text",
    "id": "174iFRTy6VR6"
   },
   "source": [
    "## Split Train and Test Set"
   ]
  },
  {
   "cell_type": "code",
   "execution_count": 345,
   "metadata": {
    "colab": {},
    "colab_type": "code",
    "id": "5AxR3SYh25Fx"
   },
   "outputs": [],
   "source": [
    "X_train, X_test, y_train, y_test = train_test_split(X, y, test_size = 0.2, random_state=0)"
   ]
  },
  {
   "cell_type": "markdown",
   "metadata": {
    "colab_type": "text",
    "id": "ziOQOp7f6ZFn"
   },
   "source": [
    "## Scale Data"
   ]
  },
  {
   "cell_type": "code",
   "execution_count": 346,
   "metadata": {
    "colab": {},
    "colab_type": "code",
    "id": "LiCMO6AD5qNM"
   },
   "outputs": [],
   "source": [
    "sc_X = StandardScaler()\n",
    "#sc_y = StandardScaler()\n",
    "X_train[:,:5] = sc_X.fit_transform(X_train[:,:5])\n",
    "#y_train = sc_y.fit_transform(y_train)"
   ]
  },
  {
   "cell_type": "code",
   "execution_count": 347,
   "metadata": {
    "colab": {
     "base_uri": "https://localhost:8080/",
     "height": 238
    },
    "colab_type": "code",
    "id": "Un_6f3HS6l-R",
    "outputId": "64008d2b-37bb-4425-ce8e-e178a5260111"
   },
   "outputs": [
    {
     "name": "stdout",
     "output_type": "stream",
     "text": [
      "[[-0.05587848  0.78685575 -0.80279881 ...  0.          0.\n",
      "   0.        ]\n",
      " [-1.1297573   1.13345267  0.50396968 ...  0.          0.\n",
      "   0.        ]\n",
      " [ 2.09187917 -0.98078854  0.88523861 ...  0.          0.\n",
      "   0.        ]\n",
      " ...\n",
      " [ 1.01800035  1.51470928  0.31102916 ...  0.          0.\n",
      "   0.        ]\n",
      " [-1.1297573  -1.46602423  0.60927985 ...  0.          0.\n",
      "   0.        ]\n",
      " [ 2.09187917 -0.35691408 -0.58679767 ...  0.          0.\n",
      "   0.        ]]\n"
     ]
    }
   ],
   "source": [
    "print(X_train)"
   ]
  },
  {
   "cell_type": "code",
   "execution_count": 348,
   "metadata": {
    "colab": {
     "base_uri": "https://localhost:8080/",
     "height": 136
    },
    "colab_type": "code",
    "id": "KwBZrfkG63Wh",
    "outputId": "3d3800a7-8d34-4225-e7bd-7324a08081eb"
   },
   "outputs": [
    {
     "name": "stdout",
     "output_type": "stream",
     "text": [
      "[[1. 0. 0.]\n",
      " [0. 1. 0.]\n",
      " [0. 0. 1.]\n",
      " ...\n",
      " [0. 1. 0.]\n",
      " [0. 1. 0.]\n",
      " [0. 0. 1.]]\n"
     ]
    }
   ],
   "source": [
    "print(y_train)"
   ]
  },
  {
   "cell_type": "markdown",
   "metadata": {
    "colab_type": "text",
    "id": "n_25ZEY6-63n"
   },
   "source": [
    "## Build the ANN for Breed Category"
   ]
  },
  {
   "cell_type": "code",
   "execution_count": 349,
   "metadata": {
    "colab": {},
    "colab_type": "code",
    "id": "tbHOjLFl65cX"
   },
   "outputs": [],
   "source": [
    "ann = tf.keras.models.Sequential()"
   ]
  },
  {
   "cell_type": "code",
   "execution_count": 350,
   "metadata": {
    "colab": {},
    "colab_type": "code",
    "id": "OgYoHKyL_EWf"
   },
   "outputs": [],
   "source": [
    "ann.add(tf.keras.layers.Dense(units=64, activation='relu'))"
   ]
  },
  {
   "cell_type": "code",
   "execution_count": 351,
   "metadata": {
    "colab": {},
    "colab_type": "code",
    "id": "UYKfXK5__Y2C"
   },
   "outputs": [],
   "source": [
    "ann.add(tf.keras.layers.Dense(units=64, activation='relu'))"
   ]
  },
  {
   "cell_type": "code",
   "execution_count": 352,
   "metadata": {
    "colab": {},
    "colab_type": "code",
    "id": "5Oka4ie_A3iD"
   },
   "outputs": [],
   "source": [
    "ann.add(tf.keras.layers.Dense(units=64, activation='relu'))"
   ]
  },
  {
   "cell_type": "code",
   "execution_count": 353,
   "metadata": {
    "colab": {},
    "colab_type": "code",
    "id": "c_mUIZM2_jcx"
   },
   "outputs": [],
   "source": [
    "ann.add(tf.keras.layers.Dense(units=3,activation='softmax'))"
   ]
  },
  {
   "cell_type": "code",
   "execution_count": 354,
   "metadata": {
    "colab": {},
    "colab_type": "code",
    "id": "6Gjg_K04BSJn"
   },
   "outputs": [],
   "source": [
    "ann.compile(optimizer='adam', loss='categorical_crossentropy', metrics=['categorical_accuracy'])"
   ]
  },
  {
   "cell_type": "code",
   "execution_count": 355,
   "metadata": {
    "colab": {
     "base_uri": "https://localhost:8080/",
     "height": 1000
    },
    "colab_type": "code",
    "id": "BtbzA6qBEJxr",
    "outputId": "f4324023-0356-438b-c641-936e166b64d9"
   },
   "outputs": [
    {
     "name": "stdout",
     "output_type": "stream",
     "text": [
      "Epoch 1/100\n",
      "471/471 [==============================] - 1s 1ms/step - loss: 0.2990 - categorical_accuracy: 0.8598\n",
      "Epoch 2/100\n",
      "471/471 [==============================] - 1s 1ms/step - loss: 0.1570 - categorical_accuracy: 0.9004\n",
      "Epoch 3/100\n",
      "471/471 [==============================] - 1s 1ms/step - loss: 0.1534 - categorical_accuracy: 0.9011\n",
      "Epoch 4/100\n",
      "471/471 [==============================] - 1s 1ms/step - loss: 0.1505 - categorical_accuracy: 0.9035\n",
      "Epoch 5/100\n",
      "471/471 [==============================] - 1s 1ms/step - loss: 0.1487 - categorical_accuracy: 0.9048\n",
      "Epoch 6/100\n",
      "471/471 [==============================] - 1s 1ms/step - loss: 0.1465 - categorical_accuracy: 0.9073\n",
      "Epoch 7/100\n",
      "471/471 [==============================] - 1s 1ms/step - loss: 0.1466 - categorical_accuracy: 0.9061\n",
      "Epoch 8/100\n",
      "471/471 [==============================] - 1s 1ms/step - loss: 0.1457 - categorical_accuracy: 0.9069\n",
      "Epoch 9/100\n",
      "471/471 [==============================] - 1s 1ms/step - loss: 0.1440 - categorical_accuracy: 0.9125\n",
      "Epoch 10/100\n",
      "471/471 [==============================] - 1s 1ms/step - loss: 0.1442 - categorical_accuracy: 0.9093\n",
      "Epoch 11/100\n",
      "471/471 [==============================] - 1s 1ms/step - loss: 0.1428 - categorical_accuracy: 0.9127\n",
      "Epoch 12/100\n",
      "471/471 [==============================] - 1s 1ms/step - loss: 0.1426 - categorical_accuracy: 0.9117\n",
      "Epoch 13/100\n",
      "471/471 [==============================] - 1s 1ms/step - loss: 0.1414 - categorical_accuracy: 0.9143\n",
      "Epoch 14/100\n",
      "471/471 [==============================] - 1s 1ms/step - loss: 0.1403 - categorical_accuracy: 0.9144\n",
      "Epoch 15/100\n",
      "471/471 [==============================] - 1s 1ms/step - loss: 0.1404 - categorical_accuracy: 0.9127\n",
      "Epoch 16/100\n",
      "471/471 [==============================] - 1s 1ms/step - loss: 0.1399 - categorical_accuracy: 0.9134\n",
      "Epoch 17/100\n",
      "471/471 [==============================] - 1s 1ms/step - loss: 0.1391 - categorical_accuracy: 0.9150\n",
      "Epoch 18/100\n",
      "471/471 [==============================] - 1s 1ms/step - loss: 0.1382 - categorical_accuracy: 0.9157\n",
      "Epoch 19/100\n",
      "471/471 [==============================] - 1s 1ms/step - loss: 0.1378 - categorical_accuracy: 0.9160\n",
      "Epoch 20/100\n",
      "471/471 [==============================] - 1s 1ms/step - loss: 0.1375 - categorical_accuracy: 0.9156\n",
      "Epoch 21/100\n",
      "471/471 [==============================] - 1s 1ms/step - loss: 0.1358 - categorical_accuracy: 0.9190\n",
      "Epoch 22/100\n",
      "471/471 [==============================] - 1s 1ms/step - loss: 0.1353 - categorical_accuracy: 0.9202\n",
      "Epoch 23/100\n",
      "471/471 [==============================] - 1s 1ms/step - loss: 0.1351 - categorical_accuracy: 0.9191\n",
      "Epoch 24/100\n",
      "471/471 [==============================] - 1s 1ms/step - loss: 0.1342 - categorical_accuracy: 0.9206\n",
      "Epoch 25/100\n",
      "471/471 [==============================] - 1s 1ms/step - loss: 0.1336 - categorical_accuracy: 0.9210\n",
      "Epoch 26/100\n",
      "471/471 [==============================] - 1s 1ms/step - loss: 0.1327 - categorical_accuracy: 0.9202\n",
      "Epoch 27/100\n",
      "471/471 [==============================] - 1s 1ms/step - loss: 0.1316 - categorical_accuracy: 0.9228\n",
      "Epoch 28/100\n",
      "471/471 [==============================] - 1s 1ms/step - loss: 0.1303 - categorical_accuracy: 0.9241\n",
      "Epoch 29/100\n",
      "471/471 [==============================] - 1s 1ms/step - loss: 0.1311 - categorical_accuracy: 0.9223\n",
      "Epoch 30/100\n",
      "471/471 [==============================] - 1s 1ms/step - loss: 0.1294 - categorical_accuracy: 0.9245\n",
      "Epoch 31/100\n",
      "471/471 [==============================] - 1s 1ms/step - loss: 0.1293 - categorical_accuracy: 0.9239\n",
      "Epoch 32/100\n",
      "471/471 [==============================] - 1s 1ms/step - loss: 0.1276 - categorical_accuracy: 0.9263\n",
      "Epoch 33/100\n",
      "471/471 [==============================] - 1s 1ms/step - loss: 0.1277 - categorical_accuracy: 0.9273\n",
      "Epoch 34/100\n",
      "471/471 [==============================] - 1s 1ms/step - loss: 0.1263 - categorical_accuracy: 0.9269\n",
      "Epoch 35/100\n",
      "471/471 [==============================] - 1s 1ms/step - loss: 0.1260 - categorical_accuracy: 0.9261\n",
      "Epoch 36/100\n",
      "471/471 [==============================] - 1s 1ms/step - loss: 0.1261 - categorical_accuracy: 0.9261\n",
      "Epoch 37/100\n",
      "471/471 [==============================] - 1s 1ms/step - loss: 0.1245 - categorical_accuracy: 0.9274\n",
      "Epoch 38/100\n",
      "471/471 [==============================] - 1s 1ms/step - loss: 0.1244 - categorical_accuracy: 0.9281\n",
      "Epoch 39/100\n",
      "471/471 [==============================] - 1s 1ms/step - loss: 0.1238 - categorical_accuracy: 0.9294\n",
      "Epoch 40/100\n",
      "471/471 [==============================] - 1s 1ms/step - loss: 0.1232 - categorical_accuracy: 0.9271\n",
      "Epoch 41/100\n",
      "471/471 [==============================] - 1s 1ms/step - loss: 0.1225 - categorical_accuracy: 0.9291\n",
      "Epoch 42/100\n",
      "471/471 [==============================] - 1s 1ms/step - loss: 0.1221 - categorical_accuracy: 0.9289\n",
      "Epoch 43/100\n",
      "471/471 [==============================] - 1s 1ms/step - loss: 0.1217 - categorical_accuracy: 0.9275\n",
      "Epoch 44/100\n",
      "471/471 [==============================] - 1s 1ms/step - loss: 0.1205 - categorical_accuracy: 0.9287\n",
      "Epoch 45/100\n",
      "471/471 [==============================] - 1s 1ms/step - loss: 0.1208 - categorical_accuracy: 0.9297\n",
      "Epoch 46/100\n",
      "471/471 [==============================] - 1s 1ms/step - loss: 0.1199 - categorical_accuracy: 0.9304\n",
      "Epoch 47/100\n",
      "471/471 [==============================] - 1s 1ms/step - loss: 0.1188 - categorical_accuracy: 0.9302\n",
      "Epoch 48/100\n",
      "471/471 [==============================] - 1s 1ms/step - loss: 0.1182 - categorical_accuracy: 0.9322\n",
      "Epoch 49/100\n",
      "471/471 [==============================] - 1s 1ms/step - loss: 0.1178 - categorical_accuracy: 0.9302\n",
      "Epoch 50/100\n",
      "471/471 [==============================] - 1s 1ms/step - loss: 0.1176 - categorical_accuracy: 0.9300\n",
      "Epoch 51/100\n",
      "471/471 [==============================] - 1s 1ms/step - loss: 0.1172 - categorical_accuracy: 0.9314\n",
      "Epoch 52/100\n",
      "471/471 [==============================] - 1s 1ms/step - loss: 0.1157 - categorical_accuracy: 0.9337\n",
      "Epoch 53/100\n",
      "471/471 [==============================] - 1s 1ms/step - loss: 0.1163 - categorical_accuracy: 0.9325\n",
      "Epoch 54/100\n",
      "471/471 [==============================] - 1s 1ms/step - loss: 0.1148 - categorical_accuracy: 0.9346\n",
      "Epoch 55/100\n",
      "471/471 [==============================] - 1s 1ms/step - loss: 0.1143 - categorical_accuracy: 0.9349\n",
      "Epoch 56/100\n",
      "471/471 [==============================] - 1s 1ms/step - loss: 0.1149 - categorical_accuracy: 0.9338\n",
      "Epoch 57/100\n",
      "471/471 [==============================] - 1s 1ms/step - loss: 0.1127 - categorical_accuracy: 0.9331\n",
      "Epoch 58/100\n",
      "471/471 [==============================] - 1s 1ms/step - loss: 0.1142 - categorical_accuracy: 0.9347\n",
      "Epoch 59/100\n",
      "471/471 [==============================] - 1s 1ms/step - loss: 0.1122 - categorical_accuracy: 0.9359\n",
      "Epoch 60/100\n",
      "471/471 [==============================] - 1s 1ms/step - loss: 0.1120 - categorical_accuracy: 0.9362\n",
      "Epoch 61/100\n",
      "471/471 [==============================] - 1s 1ms/step - loss: 0.1119 - categorical_accuracy: 0.9356\n",
      "Epoch 62/100\n",
      "471/471 [==============================] - 1s 1ms/step - loss: 0.1121 - categorical_accuracy: 0.9364\n",
      "Epoch 63/100\n",
      "471/471 [==============================] - 1s 1ms/step - loss: 0.1121 - categorical_accuracy: 0.9364\n",
      "Epoch 64/100\n",
      "471/471 [==============================] - 1s 1ms/step - loss: 0.1098 - categorical_accuracy: 0.9365\n",
      "Epoch 65/100\n",
      "471/471 [==============================] - 1s 1ms/step - loss: 0.1111 - categorical_accuracy: 0.9373\n",
      "Epoch 66/100\n",
      "471/471 [==============================] - 1s 1ms/step - loss: 0.1088 - categorical_accuracy: 0.9381\n",
      "Epoch 67/100\n",
      "471/471 [==============================] - 1s 1ms/step - loss: 0.1084 - categorical_accuracy: 0.9379\n",
      "Epoch 68/100\n",
      "471/471 [==============================] - 1s 1ms/step - loss: 0.1078 - categorical_accuracy: 0.9386\n",
      "Epoch 69/100\n",
      "471/471 [==============================] - 1s 1ms/step - loss: 0.1079 - categorical_accuracy: 0.9380\n",
      "Epoch 70/100\n",
      "471/471 [==============================] - 1s 1ms/step - loss: 0.1072 - categorical_accuracy: 0.9409\n",
      "Epoch 71/100\n",
      "471/471 [==============================] - 1s 1ms/step - loss: 0.1075 - categorical_accuracy: 0.9399\n",
      "Epoch 72/100\n",
      "471/471 [==============================] - 1s 1ms/step - loss: 0.1068 - categorical_accuracy: 0.9385\n",
      "Epoch 73/100\n",
      "471/471 [==============================] - 1s 1ms/step - loss: 0.1058 - categorical_accuracy: 0.9409\n",
      "Epoch 74/100\n",
      "471/471 [==============================] - 1s 1ms/step - loss: 0.1047 - categorical_accuracy: 0.9395\n",
      "Epoch 75/100\n",
      "471/471 [==============================] - 1s 1ms/step - loss: 0.1049 - categorical_accuracy: 0.9405\n",
      "Epoch 76/100\n",
      "471/471 [==============================] - 1s 1ms/step - loss: 0.1053 - categorical_accuracy: 0.9415\n",
      "Epoch 77/100\n",
      "471/471 [==============================] - 1s 1ms/step - loss: 0.1063 - categorical_accuracy: 0.9396\n",
      "Epoch 78/100\n",
      "471/471 [==============================] - 1s 1ms/step - loss: 0.1051 - categorical_accuracy: 0.9399\n",
      "Epoch 79/100\n",
      "471/471 [==============================] - 1s 1ms/step - loss: 0.1040 - categorical_accuracy: 0.9415\n",
      "Epoch 80/100\n",
      "471/471 [==============================] - 1s 1ms/step - loss: 0.1034 - categorical_accuracy: 0.9425\n",
      "Epoch 81/100\n",
      "471/471 [==============================] - 1s 1ms/step - loss: 0.1021 - categorical_accuracy: 0.9424\n",
      "Epoch 82/100\n",
      "471/471 [==============================] - 1s 1ms/step - loss: 0.1018 - categorical_accuracy: 0.9419\n",
      "Epoch 83/100\n",
      "471/471 [==============================] - 1s 1ms/step - loss: 0.1023 - categorical_accuracy: 0.9433\n",
      "Epoch 84/100\n",
      "471/471 [==============================] - 1s 1ms/step - loss: 0.1015 - categorical_accuracy: 0.9421\n",
      "Epoch 85/100\n",
      "471/471 [==============================] - 1s 1ms/step - loss: 0.1005 - categorical_accuracy: 0.9425\n",
      "Epoch 86/100\n",
      "471/471 [==============================] - 1s 1ms/step - loss: 0.1006 - categorical_accuracy: 0.9415\n",
      "Epoch 87/100\n",
      "471/471 [==============================] - 1s 1ms/step - loss: 0.1010 - categorical_accuracy: 0.9439\n",
      "Epoch 88/100\n",
      "471/471 [==============================] - 1s 1ms/step - loss: 0.0984 - categorical_accuracy: 0.9441\n",
      "Epoch 89/100\n",
      "471/471 [==============================] - 1s 1ms/step - loss: 0.0997 - categorical_accuracy: 0.9433\n",
      "Epoch 90/100\n",
      "471/471 [==============================] - 1s 1ms/step - loss: 0.0998 - categorical_accuracy: 0.9444\n",
      "Epoch 91/100\n",
      "471/471 [==============================] - 1s 1ms/step - loss: 0.0984 - categorical_accuracy: 0.9454\n",
      "Epoch 92/100\n",
      "471/471 [==============================] - 1s 1ms/step - loss: 0.0991 - categorical_accuracy: 0.9447\n",
      "Epoch 93/100\n",
      "471/471 [==============================] - 1s 1ms/step - loss: 0.0986 - categorical_accuracy: 0.9442\n",
      "Epoch 94/100\n",
      "471/471 [==============================] - 1s 1ms/step - loss: 0.0974 - categorical_accuracy: 0.9467\n",
      "Epoch 95/100\n",
      "471/471 [==============================] - 1s 1ms/step - loss: 0.0994 - categorical_accuracy: 0.9454\n",
      "Epoch 96/100\n",
      "471/471 [==============================] - 1s 1ms/step - loss: 0.0986 - categorical_accuracy: 0.9444\n",
      "Epoch 97/100\n",
      "471/471 [==============================] - 1s 1ms/step - loss: 0.0988 - categorical_accuracy: 0.9447\n",
      "Epoch 98/100\n",
      "471/471 [==============================] - 1s 1ms/step - loss: 0.0969 - categorical_accuracy: 0.9462\n",
      "Epoch 99/100\n",
      "471/471 [==============================] - 1s 1ms/step - loss: 0.0955 - categorical_accuracy: 0.9468\n",
      "Epoch 100/100\n",
      "471/471 [==============================] - 1s 1ms/step - loss: 0.0962 - categorical_accuracy: 0.9461\n"
     ]
    },
    {
     "data": {
      "text/plain": [
       "<tensorflow.python.keras.callbacks.History at 0x7f15608d5d68>"
      ]
     },
     "execution_count": 355,
     "metadata": {
      "tags": []
     },
     "output_type": "execute_result"
    }
   ],
   "source": [
    "ann.fit(X_train, y_train, batch_size=32, epochs=100)"
   ]
  },
  {
   "cell_type": "code",
   "execution_count": 357,
   "metadata": {
    "colab": {},
    "colab_type": "code",
    "id": "qZIH57qgNo21"
   },
   "outputs": [],
   "source": [
    "X_test[:,:5] = sc_X.transform(X_test[:,:5])"
   ]
  },
  {
   "cell_type": "code",
   "execution_count": 362,
   "metadata": {
    "colab": {
     "base_uri": "https://localhost:8080/",
     "height": 136
    },
    "colab_type": "code",
    "id": "BCepasniEcGm",
    "outputId": "bb3ec014-2c35-4015-bc70-8b21d3afbc28"
   },
   "outputs": [
    {
     "name": "stdout",
     "output_type": "stream",
     "text": [
      "[[1.00000000e+00 1.91509881e-22 0.00000000e+00]\n",
      " [0.00000000e+00 1.00000000e+00 0.00000000e+00]\n",
      " [9.90512550e-01 9.48741939e-03 1.61775127e-08]\n",
      " ...\n",
      " [0.00000000e+00 1.00000000e+00 0.00000000e+00]\n",
      " [7.28043830e-08 5.60059879e-15 9.99999881e-01]\n",
      " [1.07526015e-16 1.29327399e-27 1.00000000e+00]]\n"
     ]
    }
   ],
   "source": [
    "y_pred = ann.predict(X_test)\n",
    "print(y_pred)"
   ]
  },
  {
   "cell_type": "code",
   "execution_count": 359,
   "metadata": {
    "colab": {
     "base_uri": "https://localhost:8080/",
     "height": 136
    },
    "colab_type": "code",
    "id": "7WwHkqqxN4pO",
    "outputId": "385279b5-75e9-4446-ae19-b61bfb323e8e"
   },
   "outputs": [
    {
     "name": "stdout",
     "output_type": "stream",
     "text": [
      "[[0.9789672  0.4434194  0.07718856]\n",
      " [0.47939205 0.9402077  0.07718856]\n",
      " [0.9742275  0.44813263 0.07718856]\n",
      " ...\n",
      " [0.47939205 0.9402077  0.07718856]\n",
      " [0.47939208 0.4434194  0.34407893]\n",
      " [0.47939205 0.4434194  0.34407896]]\n"
     ]
    }
   ],
   "source": [
    "#y_pred = sc_y.inverse_transform(y_pred)\n",
    "#print(y_pred)"
   ]
  },
  {
   "cell_type": "code",
   "execution_count": 363,
   "metadata": {
    "colab": {
     "base_uri": "https://localhost:8080/",
     "height": 136
    },
    "colab_type": "code",
    "id": "XNTUkz0yN9kv",
    "outputId": "182b35da-1e5d-4396-e373-c13328f9ff7d"
   },
   "outputs": [
    {
     "data": {
      "text/plain": [
       "array([[0., 0.],\n",
       "       [1., 1.],\n",
       "       [0., 1.],\n",
       "       ...,\n",
       "       [1., 1.],\n",
       "       [2., 2.],\n",
       "       [2., 2.]])"
      ]
     },
     "execution_count": 363,
     "metadata": {
      "tags": []
     },
     "output_type": "execute_result"
    }
   ],
   "source": [
    "np.concatenate((enc_y1.inverse_transform(y_pred), enc_y1.inverse_transform(y_test)), axis =1)"
   ]
  },
  {
   "cell_type": "code",
   "execution_count": 364,
   "metadata": {
    "colab": {
     "base_uri": "https://localhost:8080/",
     "height": 68
    },
    "colab_type": "code",
    "id": "efd3hyGQMJSo",
    "outputId": "de30bf94-4e3c-41eb-a9b9-f16834d7c1c7"
   },
   "outputs": [
    {
     "data": {
      "text/plain": [
       "array([[1650,  127,    0],\n",
       "       [ 245, 1431,    0],\n",
       "       [   0,    0,  314]])"
      ]
     },
     "execution_count": 364,
     "metadata": {
      "tags": []
     },
     "output_type": "execute_result"
    }
   ],
   "source": [
    "confusion_matrix(enc_y1.inverse_transform(y_test), enc_y1.inverse_transform(y_pred))"
   ]
  },
  {
   "cell_type": "code",
   "execution_count": 417,
   "metadata": {
    "colab": {
     "base_uri": "https://localhost:8080/",
     "height": 34
    },
    "colab_type": "code",
    "id": "03XAuW8XM2Lh",
    "outputId": "0c37e355-7d76-4e2f-d947-18e4e4fa2d46"
   },
   "outputs": [
    {
     "name": "stdout",
     "output_type": "stream",
     "text": [
      "0.9010327799982764\n"
     ]
    }
   ],
   "source": [
    "f1_breed = f1_score(enc_y1.inverse_transform(y_test), enc_y1.inverse_transform(y_pred), average='weighted')\n",
    "print(f1_breed)"
   ]
  },
  {
   "cell_type": "code",
   "execution_count": 374,
   "metadata": {
    "colab": {},
    "colab_type": "code",
    "id": "kqW_nBbMQBty"
   },
   "outputs": [],
   "source": [
    "ann.save(\"breed_category_ann.h5\")"
   ]
  },
  {
   "cell_type": "markdown",
   "metadata": {
    "colab_type": "text",
    "id": "FWUFMLsPQvGp"
   },
   "source": [
    "## Build the ANN for Pet Category"
   ]
  },
  {
   "cell_type": "code",
   "execution_count": 375,
   "metadata": {
    "colab": {},
    "colab_type": "code",
    "id": "GWWk-IYiQ12E"
   },
   "outputs": [],
   "source": [
    "enc_y2 = OneHotEncoder()\n",
    "y2 = enc_y2.fit_transform(data[[\"pet_category\"]]).toarray()"
   ]
  },
  {
   "cell_type": "code",
   "execution_count": 376,
   "metadata": {
    "colab": {
     "base_uri": "https://localhost:8080/",
     "height": 136
    },
    "colab_type": "code",
    "id": "sSV_UUUPU6le",
    "outputId": "d9f2256b-efdd-4392-a523-89819dcaba5a"
   },
   "outputs": [
    {
     "name": "stdout",
     "output_type": "stream",
     "text": [
      "[[0. 1. 0. 0.]\n",
      " [0. 0. 1. 0.]\n",
      " [0. 0. 0. 1.]\n",
      " ...\n",
      " [0. 1. 0. 0.]\n",
      " [0. 0. 1. 0.]\n",
      " [0. 0. 1. 0.]]\n"
     ]
    }
   ],
   "source": [
    "print(y2)"
   ]
  },
  {
   "cell_type": "code",
   "execution_count": 390,
   "metadata": {
    "colab": {},
    "colab_type": "code",
    "id": "zkTq0mS6U8Vw"
   },
   "outputs": [],
   "source": [
    "X2_train, X2_test, y2_train, y2_test = train_test_split(X, y2, test_size = 0.2, random_state=0)"
   ]
  },
  {
   "cell_type": "code",
   "execution_count": 392,
   "metadata": {
    "colab": {
     "base_uri": "https://localhost:8080/",
     "height": 238
    },
    "colab_type": "code",
    "id": "CVlu5ThCVNip",
    "outputId": "6b25dc84-15e9-4007-b88b-ed6038a3188c"
   },
   "outputs": [
    {
     "name": "stdout",
     "output_type": "stream",
     "text": [
      "[[-0.05587848  0.78685575 -0.80279881 ...  0.          0.\n",
      "   0.        ]\n",
      " [-1.1297573   1.13345267  0.50396968 ...  0.          0.\n",
      "   0.        ]\n",
      " [ 2.09187917 -0.98078854  0.88523861 ...  0.          0.\n",
      "   0.        ]\n",
      " ...\n",
      " [ 1.01800035  1.51470928  0.31102916 ...  0.          0.\n",
      "   0.        ]\n",
      " [-1.1297573  -1.46602423  0.60927985 ...  0.          0.\n",
      "   0.        ]\n",
      " [ 2.09187917 -0.35691408 -0.58679767 ...  0.          0.\n",
      "   0.        ]]\n"
     ]
    }
   ],
   "source": [
    "X2_train[:,:5] = sc_X.transform(X2_train[:,:5])\n",
    "print(X2_train)"
   ]
  },
  {
   "cell_type": "code",
   "execution_count": 393,
   "metadata": {
    "colab": {
     "base_uri": "https://localhost:8080/",
     "height": 136
    },
    "colab_type": "code",
    "id": "GCzGOCh-VXBo",
    "outputId": "94f795b4-170e-44f9-d54f-8d50e01d3d0e"
   },
   "outputs": [
    {
     "name": "stdout",
     "output_type": "stream",
     "text": [
      "[[0. 0. 1. 0.]\n",
      " [0. 0. 1. 0.]\n",
      " [0. 0. 0. 1.]\n",
      " ...\n",
      " [0. 1. 0. 0.]\n",
      " [0. 0. 1. 0.]\n",
      " [0. 1. 0. 0.]]\n"
     ]
    }
   ],
   "source": [
    "print(y2_train)"
   ]
  },
  {
   "cell_type": "code",
   "execution_count": 401,
   "metadata": {
    "colab": {},
    "colab_type": "code",
    "id": "YWD68vEsWFlX"
   },
   "outputs": [],
   "source": [
    "pet_ann = tf.keras.models.Sequential()"
   ]
  },
  {
   "cell_type": "code",
   "execution_count": 402,
   "metadata": {
    "colab": {},
    "colab_type": "code",
    "id": "Twu3GT6HWFli"
   },
   "outputs": [],
   "source": [
    "pet_ann.add(tf.keras.layers.Dense(units=64, activation='relu'))"
   ]
  },
  {
   "cell_type": "code",
   "execution_count": 403,
   "metadata": {
    "colab": {},
    "colab_type": "code",
    "id": "sAsLtuSnWFln"
   },
   "outputs": [],
   "source": [
    "pet_ann.add(tf.keras.layers.Dense(units=64, activation='relu'))"
   ]
  },
  {
   "cell_type": "code",
   "execution_count": 404,
   "metadata": {
    "colab": {},
    "colab_type": "code",
    "id": "CPJKam7wWFlr"
   },
   "outputs": [],
   "source": [
    "pet_ann.add(tf.keras.layers.Dense(units=64, activation='relu'))"
   ]
  },
  {
   "cell_type": "code",
   "execution_count": 405,
   "metadata": {
    "colab": {},
    "colab_type": "code",
    "id": "Ab_ZJxoYWFlv"
   },
   "outputs": [],
   "source": [
    "pet_ann.add(tf.keras.layers.Dense(units=4,activation='softmax'))"
   ]
  },
  {
   "cell_type": "code",
   "execution_count": 406,
   "metadata": {
    "colab": {},
    "colab_type": "code",
    "id": "k7lFSofrWFlz"
   },
   "outputs": [],
   "source": [
    "pet_ann.compile(optimizer='adam', loss='categorical_crossentropy', metrics=['categorical_accuracy'])"
   ]
  },
  {
   "cell_type": "code",
   "execution_count": 407,
   "metadata": {
    "colab": {
     "base_uri": "https://localhost:8080/",
     "height": 1000
    },
    "colab_type": "code",
    "id": "zznqPSpvWPoL",
    "outputId": "2731dd0a-acea-4566-c0f0-a81c89878712"
   },
   "outputs": [
    {
     "name": "stdout",
     "output_type": "stream",
     "text": [
      "Epoch 1/100\n",
      "471/471 [==============================] - 1s 1ms/step - loss: 0.4446 - categorical_accuracy: 0.8187\n",
      "Epoch 2/100\n",
      "471/471 [==============================] - 1s 1ms/step - loss: 0.3159 - categorical_accuracy: 0.8641\n",
      "Epoch 3/100\n",
      "471/471 [==============================] - 1s 1ms/step - loss: 0.3061 - categorical_accuracy: 0.8698\n",
      "Epoch 4/100\n",
      "471/471 [==============================] - 1s 1ms/step - loss: 0.2975 - categorical_accuracy: 0.8736\n",
      "Epoch 5/100\n",
      "471/471 [==============================] - 1s 1ms/step - loss: 0.2933 - categorical_accuracy: 0.8719\n",
      "Epoch 6/100\n",
      "471/471 [==============================] - 1s 1ms/step - loss: 0.2896 - categorical_accuracy: 0.8782\n",
      "Epoch 7/100\n",
      "471/471 [==============================] - 1s 1ms/step - loss: 0.2860 - categorical_accuracy: 0.8773\n",
      "Epoch 8/100\n",
      "471/471 [==============================] - 1s 1ms/step - loss: 0.2843 - categorical_accuracy: 0.8776\n",
      "Epoch 9/100\n",
      "471/471 [==============================] - 1s 1ms/step - loss: 0.2815 - categorical_accuracy: 0.8778\n",
      "Epoch 10/100\n",
      "471/471 [==============================] - 1s 1ms/step - loss: 0.2784 - categorical_accuracy: 0.8787\n",
      "Epoch 11/100\n",
      "471/471 [==============================] - 1s 1ms/step - loss: 0.2772 - categorical_accuracy: 0.8801\n",
      "Epoch 12/100\n",
      "471/471 [==============================] - 1s 1ms/step - loss: 0.2754 - categorical_accuracy: 0.8805\n",
      "Epoch 13/100\n",
      "471/471 [==============================] - 1s 1ms/step - loss: 0.2745 - categorical_accuracy: 0.8816\n",
      "Epoch 14/100\n",
      "471/471 [==============================] - 1s 1ms/step - loss: 0.2723 - categorical_accuracy: 0.8808\n",
      "Epoch 15/100\n",
      "471/471 [==============================] - 1s 1ms/step - loss: 0.2707 - categorical_accuracy: 0.8833\n",
      "Epoch 16/100\n",
      "471/471 [==============================] - 1s 1ms/step - loss: 0.2701 - categorical_accuracy: 0.8827\n",
      "Epoch 17/100\n",
      "471/471 [==============================] - 1s 1ms/step - loss: 0.2680 - categorical_accuracy: 0.8830\n",
      "Epoch 18/100\n",
      "471/471 [==============================] - 1s 1ms/step - loss: 0.2663 - categorical_accuracy: 0.8843\n",
      "Epoch 19/100\n",
      "471/471 [==============================] - 1s 1ms/step - loss: 0.2662 - categorical_accuracy: 0.8827\n",
      "Epoch 20/100\n",
      "471/471 [==============================] - 1s 1ms/step - loss: 0.2646 - categorical_accuracy: 0.8848\n",
      "Epoch 21/100\n",
      "471/471 [==============================] - 1s 1ms/step - loss: 0.2639 - categorical_accuracy: 0.8848\n",
      "Epoch 22/100\n",
      "471/471 [==============================] - 1s 1ms/step - loss: 0.2635 - categorical_accuracy: 0.8841\n",
      "Epoch 23/100\n",
      "471/471 [==============================] - 1s 1ms/step - loss: 0.2631 - categorical_accuracy: 0.8825\n",
      "Epoch 24/100\n",
      "471/471 [==============================] - 1s 1ms/step - loss: 0.2613 - categorical_accuracy: 0.8847\n",
      "Epoch 25/100\n",
      "471/471 [==============================] - 1s 1ms/step - loss: 0.2600 - categorical_accuracy: 0.8856\n",
      "Epoch 26/100\n",
      "471/471 [==============================] - 1s 1ms/step - loss: 0.2583 - categorical_accuracy: 0.8835\n",
      "Epoch 27/100\n",
      "471/471 [==============================] - 1s 1ms/step - loss: 0.2583 - categorical_accuracy: 0.8868\n",
      "Epoch 28/100\n",
      "471/471 [==============================] - 1s 1ms/step - loss: 0.2592 - categorical_accuracy: 0.8845\n",
      "Epoch 29/100\n",
      "471/471 [==============================] - 1s 1ms/step - loss: 0.2582 - categorical_accuracy: 0.8872\n",
      "Epoch 30/100\n",
      "471/471 [==============================] - 1s 1ms/step - loss: 0.2570 - categorical_accuracy: 0.8861\n",
      "Epoch 31/100\n",
      "471/471 [==============================] - 1s 1ms/step - loss: 0.2565 - categorical_accuracy: 0.8858\n",
      "Epoch 32/100\n",
      "471/471 [==============================] - 1s 1ms/step - loss: 0.2556 - categorical_accuracy: 0.8878\n",
      "Epoch 33/100\n",
      "471/471 [==============================] - 1s 1ms/step - loss: 0.2553 - categorical_accuracy: 0.8876\n",
      "Epoch 34/100\n",
      "471/471 [==============================] - 1s 1ms/step - loss: 0.2537 - categorical_accuracy: 0.8874\n",
      "Epoch 35/100\n",
      "471/471 [==============================] - 1s 1ms/step - loss: 0.2535 - categorical_accuracy: 0.8864\n",
      "Epoch 36/100\n",
      "471/471 [==============================] - 1s 1ms/step - loss: 0.2532 - categorical_accuracy: 0.8858\n",
      "Epoch 37/100\n",
      "471/471 [==============================] - 1s 1ms/step - loss: 0.2518 - categorical_accuracy: 0.8882\n",
      "Epoch 38/100\n",
      "471/471 [==============================] - 1s 1ms/step - loss: 0.2528 - categorical_accuracy: 0.8889\n",
      "Epoch 39/100\n",
      "471/471 [==============================] - 1s 1ms/step - loss: 0.2512 - categorical_accuracy: 0.8868\n",
      "Epoch 40/100\n",
      "471/471 [==============================] - 1s 1ms/step - loss: 0.2501 - categorical_accuracy: 0.8881\n",
      "Epoch 41/100\n",
      "471/471 [==============================] - 1s 1ms/step - loss: 0.2504 - categorical_accuracy: 0.8882\n",
      "Epoch 42/100\n",
      "471/471 [==============================] - 1s 1ms/step - loss: 0.2495 - categorical_accuracy: 0.8892\n",
      "Epoch 43/100\n",
      "471/471 [==============================] - 1s 1ms/step - loss: 0.2496 - categorical_accuracy: 0.8886\n",
      "Epoch 44/100\n",
      "471/471 [==============================] - 1s 1ms/step - loss: 0.2479 - categorical_accuracy: 0.8896\n",
      "Epoch 45/100\n",
      "471/471 [==============================] - 1s 1ms/step - loss: 0.2466 - categorical_accuracy: 0.8894\n",
      "Epoch 46/100\n",
      "471/471 [==============================] - 1s 1ms/step - loss: 0.2468 - categorical_accuracy: 0.8896\n",
      "Epoch 47/100\n",
      "471/471 [==============================] - 1s 1ms/step - loss: 0.2473 - categorical_accuracy: 0.8898\n",
      "Epoch 48/100\n",
      "471/471 [==============================] - 1s 1ms/step - loss: 0.2461 - categorical_accuracy: 0.8898\n",
      "Epoch 49/100\n",
      "471/471 [==============================] - 1s 1ms/step - loss: 0.2455 - categorical_accuracy: 0.8900\n",
      "Epoch 50/100\n",
      "471/471 [==============================] - 1s 1ms/step - loss: 0.2438 - categorical_accuracy: 0.8911\n",
      "Epoch 51/100\n",
      "471/471 [==============================] - 1s 1ms/step - loss: 0.2422 - categorical_accuracy: 0.8916\n",
      "Epoch 52/100\n",
      "471/471 [==============================] - 1s 1ms/step - loss: 0.2448 - categorical_accuracy: 0.8886\n",
      "Epoch 53/100\n",
      "471/471 [==============================] - 1s 1ms/step - loss: 0.2429 - categorical_accuracy: 0.8914\n",
      "Epoch 54/100\n",
      "471/471 [==============================] - 1s 1ms/step - loss: 0.2426 - categorical_accuracy: 0.8915\n",
      "Epoch 55/100\n",
      "471/471 [==============================] - 1s 1ms/step - loss: 0.2423 - categorical_accuracy: 0.8908\n",
      "Epoch 56/100\n",
      "471/471 [==============================] - 1s 1ms/step - loss: 0.2412 - categorical_accuracy: 0.8921\n",
      "Epoch 57/100\n",
      "471/471 [==============================] - 1s 1ms/step - loss: 0.2413 - categorical_accuracy: 0.8916\n",
      "Epoch 58/100\n",
      "471/471 [==============================] - 1s 1ms/step - loss: 0.2400 - categorical_accuracy: 0.8948\n",
      "Epoch 59/100\n",
      "471/471 [==============================] - 1s 1ms/step - loss: 0.2403 - categorical_accuracy: 0.8918\n",
      "Epoch 60/100\n",
      "471/471 [==============================] - 1s 1ms/step - loss: 0.2393 - categorical_accuracy: 0.8911\n",
      "Epoch 61/100\n",
      "471/471 [==============================] - 1s 1ms/step - loss: 0.2392 - categorical_accuracy: 0.8934\n",
      "Epoch 62/100\n",
      "471/471 [==============================] - 1s 1ms/step - loss: 0.2371 - categorical_accuracy: 0.8921\n",
      "Epoch 63/100\n",
      "471/471 [==============================] - 1s 1ms/step - loss: 0.2379 - categorical_accuracy: 0.8935\n",
      "Epoch 64/100\n",
      "471/471 [==============================] - 1s 1ms/step - loss: 0.2378 - categorical_accuracy: 0.8927\n",
      "Epoch 65/100\n",
      "471/471 [==============================] - 1s 1ms/step - loss: 0.2382 - categorical_accuracy: 0.8928\n",
      "Epoch 66/100\n",
      "471/471 [==============================] - 1s 1ms/step - loss: 0.2366 - categorical_accuracy: 0.8921\n",
      "Epoch 67/100\n",
      "471/471 [==============================] - 1s 1ms/step - loss: 0.2375 - categorical_accuracy: 0.8941\n",
      "Epoch 68/100\n",
      "471/471 [==============================] - 1s 1ms/step - loss: 0.2363 - categorical_accuracy: 0.8916\n",
      "Epoch 69/100\n",
      "471/471 [==============================] - 1s 1ms/step - loss: 0.2358 - categorical_accuracy: 0.8932\n",
      "Epoch 70/100\n",
      "471/471 [==============================] - 1s 1ms/step - loss: 0.2341 - categorical_accuracy: 0.8940\n",
      "Epoch 71/100\n",
      "471/471 [==============================] - 1s 1ms/step - loss: 0.2331 - categorical_accuracy: 0.8950\n",
      "Epoch 72/100\n",
      "471/471 [==============================] - 1s 1ms/step - loss: 0.2340 - categorical_accuracy: 0.8929\n",
      "Epoch 73/100\n",
      "471/471 [==============================] - 1s 1ms/step - loss: 0.2328 - categorical_accuracy: 0.8945\n",
      "Epoch 74/100\n",
      "471/471 [==============================] - 1s 1ms/step - loss: 0.2331 - categorical_accuracy: 0.8933\n",
      "Epoch 75/100\n",
      "471/471 [==============================] - 1s 1ms/step - loss: 0.2322 - categorical_accuracy: 0.8944\n",
      "Epoch 76/100\n",
      "471/471 [==============================] - 1s 1ms/step - loss: 0.2312 - categorical_accuracy: 0.8953\n",
      "Epoch 77/100\n",
      "471/471 [==============================] - 1s 1ms/step - loss: 0.2307 - categorical_accuracy: 0.8959\n",
      "Epoch 78/100\n",
      "471/471 [==============================] - 1s 1ms/step - loss: 0.2311 - categorical_accuracy: 0.8949\n",
      "Epoch 79/100\n",
      "471/471 [==============================] - 1s 1ms/step - loss: 0.2305 - categorical_accuracy: 0.8944\n",
      "Epoch 80/100\n",
      "471/471 [==============================] - 1s 1ms/step - loss: 0.2298 - categorical_accuracy: 0.8951\n",
      "Epoch 81/100\n",
      "471/471 [==============================] - 1s 1ms/step - loss: 0.2299 - categorical_accuracy: 0.8951\n",
      "Epoch 82/100\n",
      "471/471 [==============================] - 1s 1ms/step - loss: 0.2293 - categorical_accuracy: 0.8954\n",
      "Epoch 83/100\n",
      "471/471 [==============================] - 1s 1ms/step - loss: 0.2288 - categorical_accuracy: 0.8941\n",
      "Epoch 84/100\n",
      "471/471 [==============================] - 1s 1ms/step - loss: 0.2283 - categorical_accuracy: 0.8975\n",
      "Epoch 85/100\n",
      "471/471 [==============================] - 1s 1ms/step - loss: 0.2275 - categorical_accuracy: 0.8967\n",
      "Epoch 86/100\n",
      "471/471 [==============================] - 1s 1ms/step - loss: 0.2264 - categorical_accuracy: 0.8969\n",
      "Epoch 87/100\n",
      "471/471 [==============================] - 1s 1ms/step - loss: 0.2280 - categorical_accuracy: 0.8974\n",
      "Epoch 88/100\n",
      "471/471 [==============================] - 1s 1ms/step - loss: 0.2276 - categorical_accuracy: 0.8972\n",
      "Epoch 89/100\n",
      "471/471 [==============================] - 1s 1ms/step - loss: 0.2256 - categorical_accuracy: 0.8975\n",
      "Epoch 90/100\n",
      "471/471 [==============================] - 1s 1ms/step - loss: 0.2255 - categorical_accuracy: 0.8972\n",
      "Epoch 91/100\n",
      "471/471 [==============================] - 1s 1ms/step - loss: 0.2253 - categorical_accuracy: 0.8979\n",
      "Epoch 92/100\n",
      "471/471 [==============================] - 1s 1ms/step - loss: 0.2242 - categorical_accuracy: 0.8979\n",
      "Epoch 93/100\n",
      "471/471 [==============================] - 1s 1ms/step - loss: 0.2241 - categorical_accuracy: 0.8963\n",
      "Epoch 94/100\n",
      "471/471 [==============================] - 1s 1ms/step - loss: 0.2247 - categorical_accuracy: 0.8978\n",
      "Epoch 95/100\n",
      "471/471 [==============================] - 1s 1ms/step - loss: 0.2223 - categorical_accuracy: 0.8985\n",
      "Epoch 96/100\n",
      "471/471 [==============================] - 1s 1ms/step - loss: 0.2221 - categorical_accuracy: 0.8991\n",
      "Epoch 97/100\n",
      "471/471 [==============================] - 1s 1ms/step - loss: 0.2216 - categorical_accuracy: 0.8987\n",
      "Epoch 98/100\n",
      "471/471 [==============================] - 1s 1ms/step - loss: 0.2219 - categorical_accuracy: 0.8980\n",
      "Epoch 99/100\n",
      "471/471 [==============================] - 1s 1ms/step - loss: 0.2200 - categorical_accuracy: 0.8989\n",
      "Epoch 100/100\n",
      "471/471 [==============================] - 1s 1ms/step - loss: 0.2219 - categorical_accuracy: 0.8983\n"
     ]
    },
    {
     "data": {
      "text/plain": [
       "<tensorflow.python.keras.callbacks.History at 0x7f1561b6b1d0>"
      ]
     },
     "execution_count": 407,
     "metadata": {
      "tags": []
     },
     "output_type": "execute_result"
    }
   ],
   "source": [
    "pet_ann.fit(X2_train, y2_train, batch_size=32, epochs=100)"
   ]
  },
  {
   "cell_type": "code",
   "execution_count": 408,
   "metadata": {
    "colab": {},
    "colab_type": "code",
    "id": "3Sx34_wpWjj_"
   },
   "outputs": [],
   "source": [
    "X2_test[:,:5] = sc_X.transform(X2_test[:,:5])"
   ]
  },
  {
   "cell_type": "code",
   "execution_count": 411,
   "metadata": {
    "colab": {
     "base_uri": "https://localhost:8080/",
     "height": 136
    },
    "colab_type": "code",
    "id": "EHhvLAHWXmcu",
    "outputId": "1640bc0e-388b-451f-fc97-c2bd2529d166"
   },
   "outputs": [
    {
     "name": "stdout",
     "output_type": "stream",
     "text": [
      "[[1.2823130e-19 1.5472609e-05 9.9998343e-01 1.1003017e-06]\n",
      " [1.1985372e-17 9.6176769e-16 1.0000000e+00 4.0730246e-09]\n",
      " [0.0000000e+00 1.0000000e+00 1.1623100e-31 1.2732335e-27]\n",
      " ...\n",
      " [3.2498997e-17 5.5150402e-01 4.4849595e-01 2.7092371e-09]\n",
      " [0.0000000e+00 1.0000000e+00 6.6274489e-23 1.0314866e-17]\n",
      " [4.6566786e-04 8.5665590e-09 9.5328887e-06 9.9952483e-01]]\n"
     ]
    }
   ],
   "source": [
    "y2_pred = pet_ann.predict(X2_test)\n",
    "print(y2_pred)"
   ]
  },
  {
   "cell_type": "code",
   "execution_count": 412,
   "metadata": {
    "colab": {
     "base_uri": "https://localhost:8080/",
     "height": 136
    },
    "colab_type": "code",
    "id": "nx6ejsN_YUQU",
    "outputId": "4eb5453e-c95c-4436-c204-e2ad6c8051bc"
   },
   "outputs": [
    {
     "data": {
      "text/plain": [
       "array([[2, 2],\n",
       "       [2, 2],\n",
       "       [1, 1],\n",
       "       ...,\n",
       "       [1, 2],\n",
       "       [1, 1],\n",
       "       [4, 4]])"
      ]
     },
     "execution_count": 412,
     "metadata": {
      "tags": []
     },
     "output_type": "execute_result"
    }
   ],
   "source": [
    "np.concatenate((enc_y2.inverse_transform(y2_pred), enc_y2.inverse_transform(y2_test)), axis =1)"
   ]
  },
  {
   "cell_type": "code",
   "execution_count": 413,
   "metadata": {
    "colab": {
     "base_uri": "https://localhost:8080/",
     "height": 85
    },
    "colab_type": "code",
    "id": "KtE7GZXqYUQl",
    "outputId": "907f52fb-9e87-4f54-e3b0-59a625a376bf"
   },
   "outputs": [
    {
     "data": {
      "text/plain": [
       "array([[   1,    2,    5,    5],\n",
       "       [   0, 1097,  349,   13],\n",
       "       [   2,   89, 2011,   12],\n",
       "       [   1,   11,   19,  150]])"
      ]
     },
     "execution_count": 413,
     "metadata": {
      "tags": []
     },
     "output_type": "execute_result"
    }
   ],
   "source": [
    "confusion_matrix(enc_y2.inverse_transform(y2_test), enc_y2.inverse_transform(y2_pred))"
   ]
  },
  {
   "cell_type": "code",
   "execution_count": 419,
   "metadata": {
    "colab": {
     "base_uri": "https://localhost:8080/",
     "height": 34
    },
    "colab_type": "code",
    "id": "fFnPd5NmYUQt",
    "outputId": "d470403f-e84d-4fa4-c03a-24f3e15f1b89"
   },
   "outputs": [
    {
     "name": "stdout",
     "output_type": "stream",
     "text": [
      "0.861836346964682\n"
     ]
    }
   ],
   "source": [
    "f1_pet = f1_score(enc_y2.inverse_transform(y2_test), enc_y2.inverse_transform(y2_pred), average='weighted')\n",
    "print(f1_pet)"
   ]
  },
  {
   "cell_type": "code",
   "execution_count": 422,
   "metadata": {
    "colab": {},
    "colab_type": "code",
    "id": "_0oANhEKZHPS"
   },
   "outputs": [],
   "source": [
    "pet_ann.save(\"pet_category_ann.h5\")"
   ]
  },
  {
   "cell_type": "code",
   "execution_count": 421,
   "metadata": {
    "colab": {
     "base_uri": "https://localhost:8080/",
     "height": 34
    },
    "colab_type": "code",
    "id": "Ml4Cnp8gYdr0",
    "outputId": "4fe1e5ed-acb8-4db0-c40a-46f50671f5fd"
   },
   "outputs": [
    {
     "name": "stdout",
     "output_type": "stream",
     "text": [
      "88.14345634814792\n"
     ]
    }
   ],
   "source": [
    "net_f1 = (f1_breed+f1_pet)*100/2\n",
    "print(net_f1)"
   ]
  }
 ],
 "metadata": {
  "colab": {
   "collapsed_sections": [],
   "machine_shape": "hm",
   "name": "neural_network.ipynb",
   "provenance": [],
   "toc_visible": true
  },
  "kernelspec": {
   "display_name": "Python 3",
   "language": "python",
   "name": "python3"
  },
  "language_info": {
   "codemirror_mode": {
    "name": "ipython",
    "version": 3
   },
   "file_extension": ".py",
   "mimetype": "text/x-python",
   "name": "python",
   "nbconvert_exporter": "python",
   "pygments_lexer": "ipython3",
   "version": "3.8.3"
  }
 },
 "nbformat": 4,
 "nbformat_minor": 1
}
