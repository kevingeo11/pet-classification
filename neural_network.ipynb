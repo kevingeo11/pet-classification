{
  "nbformat": 4,
  "nbformat_minor": 0,
  "metadata": {
    "colab": {
      "name": "neural_network.ipynb",
      "provenance": [],
      "collapsed_sections": [],
      "machine_shape": "hm"
    },
    "kernelspec": {
      "display_name": "Python 3",
      "language": "python",
      "name": "python3"
    },
    "language_info": {
      "codemirror_mode": {
        "name": "ipython",
        "version": 3
      },
      "file_extension": ".py",
      "mimetype": "text/x-python",
      "name": "python",
      "nbconvert_exporter": "python",
      "pygments_lexer": "ipython3",
      "version": "3.8.3"
    }
  },
  "cells": [
    {
      "cell_type": "markdown",
      "metadata": {
        "colab_type": "text",
        "id": "0MRC0e0KhQ0S"
      },
      "source": [
        "# Artificial Neural Network"
      ]
    },
    {
      "cell_type": "code",
      "metadata": {
        "id": "CWbae25Jrt7p",
        "colab_type": "code",
        "colab": {}
      },
      "source": [
        "import numpy as np\n",
        "import pandas as pd\n",
        "import tensorflow as tf\n",
        "from sklearn.preprocessing import LabelEncoder\n",
        "from sklearn.preprocessing import OneHotEncoder\n",
        "from sklearn.model_selection import train_test_split\n",
        "from sklearn.preprocessing import StandardScaler\n",
        "from sklearn.metrics import confusion_matrix\n",
        "from sklearn.metrics import f1_score\n",
        "import joblib"
      ],
      "execution_count": 370,
      "outputs": []
    },
    {
      "cell_type": "code",
      "metadata": {
        "id": "1-yp8SCLsGP7",
        "colab_type": "code",
        "colab": {
          "base_uri": "https://localhost:8080/",
          "height": 35
        },
        "outputId": "91ee942b-fdb7-4cd7-9642-f210f143378f"
      },
      "source": [
        "tf.__version__"
      ],
      "execution_count": 312,
      "outputs": [
        {
          "output_type": "execute_result",
          "data": {
            "application/vnd.google.colaboratory.intrinsic+json": {
              "type": "string"
            },
            "text/plain": [
              "'2.3.0'"
            ]
          },
          "metadata": {
            "tags": []
          },
          "execution_count": 312
        }
      ]
    },
    {
      "cell_type": "code",
      "metadata": {
        "id": "Sr3kJM9Zrt7x",
        "colab_type": "code",
        "colab": {}
      },
      "source": [
        "data = pd.read_csv(\"train.csv\")"
      ],
      "execution_count": 313,
      "outputs": []
    },
    {
      "cell_type": "code",
      "metadata": {
        "id": "icbTv-78rt77",
        "colab_type": "code",
        "colab": {
          "base_uri": "https://localhost:8080/",
          "height": 309
        },
        "outputId": "8bbd2683-c0ff-4128-ee70-4c0702272e25"
      },
      "source": [
        "data.head()"
      ],
      "execution_count": 314,
      "outputs": [
        {
          "output_type": "execute_result",
          "data": {
            "text/html": [
              "<div>\n",
              "<style scoped>\n",
              "    .dataframe tbody tr th:only-of-type {\n",
              "        vertical-align: middle;\n",
              "    }\n",
              "\n",
              "    .dataframe tbody tr th {\n",
              "        vertical-align: top;\n",
              "    }\n",
              "\n",
              "    .dataframe thead th {\n",
              "        text-align: right;\n",
              "    }\n",
              "</style>\n",
              "<table border=\"1\" class=\"dataframe\">\n",
              "  <thead>\n",
              "    <tr style=\"text-align: right;\">\n",
              "      <th></th>\n",
              "      <th>pet_id</th>\n",
              "      <th>issue_date</th>\n",
              "      <th>listing_date</th>\n",
              "      <th>condition</th>\n",
              "      <th>color_type</th>\n",
              "      <th>length(m)</th>\n",
              "      <th>height(cm)</th>\n",
              "      <th>X1</th>\n",
              "      <th>X2</th>\n",
              "      <th>breed_category</th>\n",
              "      <th>pet_category</th>\n",
              "    </tr>\n",
              "  </thead>\n",
              "  <tbody>\n",
              "    <tr>\n",
              "      <th>0</th>\n",
              "      <td>ANSL_69903</td>\n",
              "      <td>2016-07-10 00:00:00</td>\n",
              "      <td>2016-09-21 16:25:00</td>\n",
              "      <td>2.0</td>\n",
              "      <td>Brown Tabby</td>\n",
              "      <td>0.80</td>\n",
              "      <td>7.78</td>\n",
              "      <td>13</td>\n",
              "      <td>9</td>\n",
              "      <td>0.0</td>\n",
              "      <td>1</td>\n",
              "    </tr>\n",
              "    <tr>\n",
              "      <th>1</th>\n",
              "      <td>ANSL_66892</td>\n",
              "      <td>2013-11-21 00:00:00</td>\n",
              "      <td>2018-12-27 17:47:00</td>\n",
              "      <td>1.0</td>\n",
              "      <td>White</td>\n",
              "      <td>0.72</td>\n",
              "      <td>14.19</td>\n",
              "      <td>13</td>\n",
              "      <td>9</td>\n",
              "      <td>0.0</td>\n",
              "      <td>2</td>\n",
              "    </tr>\n",
              "    <tr>\n",
              "      <th>2</th>\n",
              "      <td>ANSL_69750</td>\n",
              "      <td>2014-09-28 00:00:00</td>\n",
              "      <td>2016-10-19 08:24:00</td>\n",
              "      <td>NaN</td>\n",
              "      <td>Brown</td>\n",
              "      <td>0.15</td>\n",
              "      <td>40.90</td>\n",
              "      <td>15</td>\n",
              "      <td>4</td>\n",
              "      <td>2.0</td>\n",
              "      <td>4</td>\n",
              "    </tr>\n",
              "    <tr>\n",
              "      <th>3</th>\n",
              "      <td>ANSL_71623</td>\n",
              "      <td>2016-12-31 00:00:00</td>\n",
              "      <td>2019-01-25 18:30:00</td>\n",
              "      <td>1.0</td>\n",
              "      <td>White</td>\n",
              "      <td>0.62</td>\n",
              "      <td>17.82</td>\n",
              "      <td>0</td>\n",
              "      <td>1</td>\n",
              "      <td>0.0</td>\n",
              "      <td>2</td>\n",
              "    </tr>\n",
              "    <tr>\n",
              "      <th>4</th>\n",
              "      <td>ANSL_57969</td>\n",
              "      <td>2017-09-28 00:00:00</td>\n",
              "      <td>2017-11-19 09:38:00</td>\n",
              "      <td>2.0</td>\n",
              "      <td>Black</td>\n",
              "      <td>0.50</td>\n",
              "      <td>11.06</td>\n",
              "      <td>18</td>\n",
              "      <td>4</td>\n",
              "      <td>0.0</td>\n",
              "      <td>1</td>\n",
              "    </tr>\n",
              "  </tbody>\n",
              "</table>\n",
              "</div>"
            ],
            "text/plain": [
              "       pet_id           issue_date  ... breed_category  pet_category\n",
              "0  ANSL_69903  2016-07-10 00:00:00  ...            0.0             1\n",
              "1  ANSL_66892  2013-11-21 00:00:00  ...            0.0             2\n",
              "2  ANSL_69750  2014-09-28 00:00:00  ...            2.0             4\n",
              "3  ANSL_71623  2016-12-31 00:00:00  ...            0.0             2\n",
              "4  ANSL_57969  2017-09-28 00:00:00  ...            0.0             1\n",
              "\n",
              "[5 rows x 11 columns]"
            ]
          },
          "metadata": {
            "tags": []
          },
          "execution_count": 314
        }
      ]
    },
    {
      "cell_type": "code",
      "metadata": {
        "id": "-cg-Th4qrt8C",
        "colab_type": "code",
        "colab": {
          "base_uri": "https://localhost:8080/",
          "height": 323
        },
        "outputId": "8fa0ee12-8feb-4ba8-82e5-12d39ad3a08e"
      },
      "source": [
        "data.info()"
      ],
      "execution_count": 315,
      "outputs": [
        {
          "output_type": "stream",
          "text": [
            "<class 'pandas.core.frame.DataFrame'>\n",
            "RangeIndex: 18834 entries, 0 to 18833\n",
            "Data columns (total 11 columns):\n",
            " #   Column          Non-Null Count  Dtype  \n",
            "---  ------          --------------  -----  \n",
            " 0   pet_id          18834 non-null  object \n",
            " 1   issue_date      18834 non-null  object \n",
            " 2   listing_date    18834 non-null  object \n",
            " 3   condition       17357 non-null  float64\n",
            " 4   color_type      18834 non-null  object \n",
            " 5   length(m)       18834 non-null  float64\n",
            " 6   height(cm)      18834 non-null  float64\n",
            " 7   X1              18834 non-null  int64  \n",
            " 8   X2              18834 non-null  int64  \n",
            " 9   breed_category  18834 non-null  float64\n",
            " 10  pet_category    18834 non-null  int64  \n",
            "dtypes: float64(4), int64(3), object(4)\n",
            "memory usage: 1.6+ MB\n"
          ],
          "name": "stdout"
        }
      ]
    },
    {
      "cell_type": "markdown",
      "metadata": {
        "id": "Pv_xHR4xrt8L",
        "colab_type": "text"
      },
      "source": [
        "## Impute Missing Data"
      ]
    },
    {
      "cell_type": "code",
      "metadata": {
        "id": "ARxqPCCGuVlD",
        "colab_type": "code",
        "colab": {
          "base_uri": "https://localhost:8080/",
          "height": 85
        },
        "outputId": "3a541d52-9712-4510-922d-0343b560334a"
      },
      "source": [
        "data[\"condition\"].value_counts()"
      ],
      "execution_count": 316,
      "outputs": [
        {
          "output_type": "execute_result",
          "data": {
            "text/plain": [
              "1.0    6819\n",
              "0.0    6281\n",
              "2.0    4257\n",
              "Name: condition, dtype: int64"
            ]
          },
          "metadata": {
            "tags": []
          },
          "execution_count": 316
        }
      ]
    },
    {
      "cell_type": "code",
      "metadata": {
        "id": "uuFMWe3Jrt8M",
        "colab_type": "code",
        "colab": {}
      },
      "source": [
        "data[\"condition\"] = data[\"condition\"].fillna(3.0)"
      ],
      "execution_count": 317,
      "outputs": []
    },
    {
      "cell_type": "code",
      "metadata": {
        "id": "lvYUvv3Jrt8b",
        "colab_type": "code",
        "colab": {
          "base_uri": "https://localhost:8080/",
          "height": 309
        },
        "outputId": "9ce476dd-8168-42ab-d585-9451f301f734"
      },
      "source": [
        "data.head()"
      ],
      "execution_count": 318,
      "outputs": [
        {
          "output_type": "execute_result",
          "data": {
            "text/html": [
              "<div>\n",
              "<style scoped>\n",
              "    .dataframe tbody tr th:only-of-type {\n",
              "        vertical-align: middle;\n",
              "    }\n",
              "\n",
              "    .dataframe tbody tr th {\n",
              "        vertical-align: top;\n",
              "    }\n",
              "\n",
              "    .dataframe thead th {\n",
              "        text-align: right;\n",
              "    }\n",
              "</style>\n",
              "<table border=\"1\" class=\"dataframe\">\n",
              "  <thead>\n",
              "    <tr style=\"text-align: right;\">\n",
              "      <th></th>\n",
              "      <th>pet_id</th>\n",
              "      <th>issue_date</th>\n",
              "      <th>listing_date</th>\n",
              "      <th>condition</th>\n",
              "      <th>color_type</th>\n",
              "      <th>length(m)</th>\n",
              "      <th>height(cm)</th>\n",
              "      <th>X1</th>\n",
              "      <th>X2</th>\n",
              "      <th>breed_category</th>\n",
              "      <th>pet_category</th>\n",
              "    </tr>\n",
              "  </thead>\n",
              "  <tbody>\n",
              "    <tr>\n",
              "      <th>0</th>\n",
              "      <td>ANSL_69903</td>\n",
              "      <td>2016-07-10 00:00:00</td>\n",
              "      <td>2016-09-21 16:25:00</td>\n",
              "      <td>2.0</td>\n",
              "      <td>Brown Tabby</td>\n",
              "      <td>0.80</td>\n",
              "      <td>7.78</td>\n",
              "      <td>13</td>\n",
              "      <td>9</td>\n",
              "      <td>0.0</td>\n",
              "      <td>1</td>\n",
              "    </tr>\n",
              "    <tr>\n",
              "      <th>1</th>\n",
              "      <td>ANSL_66892</td>\n",
              "      <td>2013-11-21 00:00:00</td>\n",
              "      <td>2018-12-27 17:47:00</td>\n",
              "      <td>1.0</td>\n",
              "      <td>White</td>\n",
              "      <td>0.72</td>\n",
              "      <td>14.19</td>\n",
              "      <td>13</td>\n",
              "      <td>9</td>\n",
              "      <td>0.0</td>\n",
              "      <td>2</td>\n",
              "    </tr>\n",
              "    <tr>\n",
              "      <th>2</th>\n",
              "      <td>ANSL_69750</td>\n",
              "      <td>2014-09-28 00:00:00</td>\n",
              "      <td>2016-10-19 08:24:00</td>\n",
              "      <td>3.0</td>\n",
              "      <td>Brown</td>\n",
              "      <td>0.15</td>\n",
              "      <td>40.90</td>\n",
              "      <td>15</td>\n",
              "      <td>4</td>\n",
              "      <td>2.0</td>\n",
              "      <td>4</td>\n",
              "    </tr>\n",
              "    <tr>\n",
              "      <th>3</th>\n",
              "      <td>ANSL_71623</td>\n",
              "      <td>2016-12-31 00:00:00</td>\n",
              "      <td>2019-01-25 18:30:00</td>\n",
              "      <td>1.0</td>\n",
              "      <td>White</td>\n",
              "      <td>0.62</td>\n",
              "      <td>17.82</td>\n",
              "      <td>0</td>\n",
              "      <td>1</td>\n",
              "      <td>0.0</td>\n",
              "      <td>2</td>\n",
              "    </tr>\n",
              "    <tr>\n",
              "      <th>4</th>\n",
              "      <td>ANSL_57969</td>\n",
              "      <td>2017-09-28 00:00:00</td>\n",
              "      <td>2017-11-19 09:38:00</td>\n",
              "      <td>2.0</td>\n",
              "      <td>Black</td>\n",
              "      <td>0.50</td>\n",
              "      <td>11.06</td>\n",
              "      <td>18</td>\n",
              "      <td>4</td>\n",
              "      <td>0.0</td>\n",
              "      <td>1</td>\n",
              "    </tr>\n",
              "  </tbody>\n",
              "</table>\n",
              "</div>"
            ],
            "text/plain": [
              "       pet_id           issue_date  ... breed_category  pet_category\n",
              "0  ANSL_69903  2016-07-10 00:00:00  ...            0.0             1\n",
              "1  ANSL_66892  2013-11-21 00:00:00  ...            0.0             2\n",
              "2  ANSL_69750  2014-09-28 00:00:00  ...            2.0             4\n",
              "3  ANSL_71623  2016-12-31 00:00:00  ...            0.0             2\n",
              "4  ANSL_57969  2017-09-28 00:00:00  ...            0.0             1\n",
              "\n",
              "[5 rows x 11 columns]"
            ]
          },
          "metadata": {
            "tags": []
          },
          "execution_count": 318
        }
      ]
    },
    {
      "cell_type": "code",
      "metadata": {
        "id": "zHkRwtWOrt8h",
        "colab_type": "code",
        "colab": {
          "base_uri": "https://localhost:8080/",
          "height": 102
        },
        "outputId": "941764c3-2f23-413e-a0da-ec04c03b9154"
      },
      "source": [
        "data[\"condition\"].value_counts()"
      ],
      "execution_count": 319,
      "outputs": [
        {
          "output_type": "execute_result",
          "data": {
            "text/plain": [
              "1.0    6819\n",
              "0.0    6281\n",
              "2.0    4257\n",
              "3.0    1477\n",
              "Name: condition, dtype: int64"
            ]
          },
          "metadata": {
            "tags": []
          },
          "execution_count": 319
        }
      ]
    },
    {
      "cell_type": "markdown",
      "metadata": {
        "id": "5E4HcDgort8n",
        "colab_type": "text"
      },
      "source": [
        "## Encode Data"
      ]
    },
    {
      "cell_type": "markdown",
      "metadata": {
        "id": "DyOPQfTrrt8o",
        "colab_type": "text"
      },
      "source": [
        "### Encode Independent variable"
      ]
    },
    {
      "cell_type": "code",
      "metadata": {
        "id": "y6CXsjnVrt8p",
        "colab_type": "code",
        "colab": {}
      },
      "source": [
        "#le = LabelEncoder()\n",
        "#data[\"color_type\"] = le.fit_transform(data[\"color_type\"])"
      ],
      "execution_count": 320,
      "outputs": []
    },
    {
      "cell_type": "code",
      "metadata": {
        "id": "bhb1ll8grt8v",
        "colab_type": "code",
        "colab": {
          "base_uri": "https://localhost:8080/",
          "height": 309
        },
        "outputId": "66b2276a-9c73-4816-f2f6-87344715316d"
      },
      "source": [
        "data.head()"
      ],
      "execution_count": 321,
      "outputs": [
        {
          "output_type": "execute_result",
          "data": {
            "text/html": [
              "<div>\n",
              "<style scoped>\n",
              "    .dataframe tbody tr th:only-of-type {\n",
              "        vertical-align: middle;\n",
              "    }\n",
              "\n",
              "    .dataframe tbody tr th {\n",
              "        vertical-align: top;\n",
              "    }\n",
              "\n",
              "    .dataframe thead th {\n",
              "        text-align: right;\n",
              "    }\n",
              "</style>\n",
              "<table border=\"1\" class=\"dataframe\">\n",
              "  <thead>\n",
              "    <tr style=\"text-align: right;\">\n",
              "      <th></th>\n",
              "      <th>pet_id</th>\n",
              "      <th>issue_date</th>\n",
              "      <th>listing_date</th>\n",
              "      <th>condition</th>\n",
              "      <th>color_type</th>\n",
              "      <th>length(m)</th>\n",
              "      <th>height(cm)</th>\n",
              "      <th>X1</th>\n",
              "      <th>X2</th>\n",
              "      <th>breed_category</th>\n",
              "      <th>pet_category</th>\n",
              "    </tr>\n",
              "  </thead>\n",
              "  <tbody>\n",
              "    <tr>\n",
              "      <th>0</th>\n",
              "      <td>ANSL_69903</td>\n",
              "      <td>2016-07-10 00:00:00</td>\n",
              "      <td>2016-09-21 16:25:00</td>\n",
              "      <td>2.0</td>\n",
              "      <td>Brown Tabby</td>\n",
              "      <td>0.80</td>\n",
              "      <td>7.78</td>\n",
              "      <td>13</td>\n",
              "      <td>9</td>\n",
              "      <td>0.0</td>\n",
              "      <td>1</td>\n",
              "    </tr>\n",
              "    <tr>\n",
              "      <th>1</th>\n",
              "      <td>ANSL_66892</td>\n",
              "      <td>2013-11-21 00:00:00</td>\n",
              "      <td>2018-12-27 17:47:00</td>\n",
              "      <td>1.0</td>\n",
              "      <td>White</td>\n",
              "      <td>0.72</td>\n",
              "      <td>14.19</td>\n",
              "      <td>13</td>\n",
              "      <td>9</td>\n",
              "      <td>0.0</td>\n",
              "      <td>2</td>\n",
              "    </tr>\n",
              "    <tr>\n",
              "      <th>2</th>\n",
              "      <td>ANSL_69750</td>\n",
              "      <td>2014-09-28 00:00:00</td>\n",
              "      <td>2016-10-19 08:24:00</td>\n",
              "      <td>3.0</td>\n",
              "      <td>Brown</td>\n",
              "      <td>0.15</td>\n",
              "      <td>40.90</td>\n",
              "      <td>15</td>\n",
              "      <td>4</td>\n",
              "      <td>2.0</td>\n",
              "      <td>4</td>\n",
              "    </tr>\n",
              "    <tr>\n",
              "      <th>3</th>\n",
              "      <td>ANSL_71623</td>\n",
              "      <td>2016-12-31 00:00:00</td>\n",
              "      <td>2019-01-25 18:30:00</td>\n",
              "      <td>1.0</td>\n",
              "      <td>White</td>\n",
              "      <td>0.62</td>\n",
              "      <td>17.82</td>\n",
              "      <td>0</td>\n",
              "      <td>1</td>\n",
              "      <td>0.0</td>\n",
              "      <td>2</td>\n",
              "    </tr>\n",
              "    <tr>\n",
              "      <th>4</th>\n",
              "      <td>ANSL_57969</td>\n",
              "      <td>2017-09-28 00:00:00</td>\n",
              "      <td>2017-11-19 09:38:00</td>\n",
              "      <td>2.0</td>\n",
              "      <td>Black</td>\n",
              "      <td>0.50</td>\n",
              "      <td>11.06</td>\n",
              "      <td>18</td>\n",
              "      <td>4</td>\n",
              "      <td>0.0</td>\n",
              "      <td>1</td>\n",
              "    </tr>\n",
              "  </tbody>\n",
              "</table>\n",
              "</div>"
            ],
            "text/plain": [
              "       pet_id           issue_date  ... breed_category  pet_category\n",
              "0  ANSL_69903  2016-07-10 00:00:00  ...            0.0             1\n",
              "1  ANSL_66892  2013-11-21 00:00:00  ...            0.0             2\n",
              "2  ANSL_69750  2014-09-28 00:00:00  ...            2.0             4\n",
              "3  ANSL_71623  2016-12-31 00:00:00  ...            0.0             2\n",
              "4  ANSL_57969  2017-09-28 00:00:00  ...            0.0             1\n",
              "\n",
              "[5 rows x 11 columns]"
            ]
          },
          "metadata": {
            "tags": []
          },
          "execution_count": 321
        }
      ]
    },
    {
      "cell_type": "code",
      "metadata": {
        "id": "vTdLlYXbxB5c",
        "colab_type": "code",
        "colab": {}
      },
      "source": [
        "color_type_enc = OneHotEncoder()\n",
        "color_type_1h = color_type_enc.fit_transform(data[[\"color_type\"]])"
      ],
      "execution_count": 322,
      "outputs": []
    },
    {
      "cell_type": "code",
      "metadata": {
        "id": "9gG7DM-OxNLC",
        "colab_type": "code",
        "colab": {}
      },
      "source": [
        "X = data[[\"condition\", \"length(m)\", \"height(cm)\", \"X1\", \"X2\"]].values"
      ],
      "execution_count": 323,
      "outputs": []
    },
    {
      "cell_type": "code",
      "metadata": {
        "id": "7yqtFhGlz9gu",
        "colab_type": "code",
        "colab": {}
      },
      "source": [
        "X = np.concatenate((X,color_type_1h.toarray()), axis=1)"
      ],
      "execution_count": 324,
      "outputs": []
    },
    {
      "cell_type": "code",
      "metadata": {
        "id": "dWlIsfhz0wOd",
        "colab_type": "code",
        "colab": {
          "base_uri": "https://localhost:8080/",
          "height": 153
        },
        "outputId": "e593a854-c76e-4820-dcfe-361bd6847b23"
      },
      "source": [
        "print(X)\n",
        "print(X.shape)"
      ],
      "execution_count": 339,
      "outputs": [
        {
          "output_type": "stream",
          "text": [
            "[[ 2.    0.8   7.78 ...  0.    0.    0.  ]\n",
            " [ 1.    0.72 14.19 ...  1.    0.    0.  ]\n",
            " [ 3.    0.15 40.9  ...  0.    0.    0.  ]\n",
            " ...\n",
            " [ 0.    0.99 28.13 ...  0.    0.    0.  ]\n",
            " [ 0.    0.55 44.82 ...  0.    0.    0.  ]\n",
            " [ 0.    0.86 37.4  ...  0.    0.    0.  ]]\n",
            "(18834, 61)\n"
          ],
          "name": "stdout"
        }
      ]
    },
    {
      "cell_type": "markdown",
      "metadata": {
        "colab_type": "text",
        "id": "LDdVjA6E6FaV"
      },
      "source": [
        "### Encode Dependent variable"
      ]
    },
    {
      "cell_type": "code",
      "metadata": {
        "id": "bT8DzfNa025P",
        "colab_type": "code",
        "colab": {}
      },
      "source": [
        "enc_y1 = OneHotEncoder()\n",
        "y = enc_y1.fit_transform(data[[\"breed_category\"]]).toarray()"
      ],
      "execution_count": 340,
      "outputs": []
    },
    {
      "cell_type": "code",
      "metadata": {
        "id": "yHd1IgUP21TU",
        "colab_type": "code",
        "colab": {
          "base_uri": "https://localhost:8080/",
          "height": 136
        },
        "outputId": "de0cdd75-b7da-4a44-ef56-43d046dedf74"
      },
      "source": [
        "print(y)"
      ],
      "execution_count": 341,
      "outputs": [
        {
          "output_type": "stream",
          "text": [
            "[[1. 0. 0.]\n",
            " [1. 0. 0.]\n",
            " [0. 0. 1.]\n",
            " ...\n",
            " [0. 1. 0.]\n",
            " [0. 1. 0.]\n",
            " [0. 1. 0.]]\n"
          ],
          "name": "stdout"
        }
      ]
    },
    {
      "cell_type": "markdown",
      "metadata": {
        "colab_type": "text",
        "id": "174iFRTy6VR6"
      },
      "source": [
        "## Split Train and Test Set"
      ]
    },
    {
      "cell_type": "code",
      "metadata": {
        "id": "5AxR3SYh25Fx",
        "colab_type": "code",
        "colab": {}
      },
      "source": [
        "X_train, X_test, y_train, y_test = train_test_split(X, y, test_size = 0.2, random_state=0)"
      ],
      "execution_count": 345,
      "outputs": []
    },
    {
      "cell_type": "markdown",
      "metadata": {
        "colab_type": "text",
        "id": "ziOQOp7f6ZFn"
      },
      "source": [
        "## Scale Data"
      ]
    },
    {
      "cell_type": "code",
      "metadata": {
        "id": "LiCMO6AD5qNM",
        "colab_type": "code",
        "colab": {}
      },
      "source": [
        "sc_X = StandardScaler()\n",
        "#sc_y = StandardScaler()\n",
        "X_train[:,:5] = sc_X.fit_transform(X_train[:,:5])\n",
        "#y_train = sc_y.fit_transform(y_train)"
      ],
      "execution_count": 346,
      "outputs": []
    },
    {
      "cell_type": "code",
      "metadata": {
        "id": "Un_6f3HS6l-R",
        "colab_type": "code",
        "colab": {
          "base_uri": "https://localhost:8080/",
          "height": 238
        },
        "outputId": "64008d2b-37bb-4425-ce8e-e178a5260111"
      },
      "source": [
        "print(X_train)"
      ],
      "execution_count": 347,
      "outputs": [
        {
          "output_type": "stream",
          "text": [
            "[[-0.05587848  0.78685575 -0.80279881 ...  0.          0.\n",
            "   0.        ]\n",
            " [-1.1297573   1.13345267  0.50396968 ...  0.          0.\n",
            "   0.        ]\n",
            " [ 2.09187917 -0.98078854  0.88523861 ...  0.          0.\n",
            "   0.        ]\n",
            " ...\n",
            " [ 1.01800035  1.51470928  0.31102916 ...  0.          0.\n",
            "   0.        ]\n",
            " [-1.1297573  -1.46602423  0.60927985 ...  0.          0.\n",
            "   0.        ]\n",
            " [ 2.09187917 -0.35691408 -0.58679767 ...  0.          0.\n",
            "   0.        ]]\n"
          ],
          "name": "stdout"
        }
      ]
    },
    {
      "cell_type": "code",
      "metadata": {
        "id": "KwBZrfkG63Wh",
        "colab_type": "code",
        "colab": {
          "base_uri": "https://localhost:8080/",
          "height": 136
        },
        "outputId": "3d3800a7-8d34-4225-e7bd-7324a08081eb"
      },
      "source": [
        "print(y_train)"
      ],
      "execution_count": 348,
      "outputs": [
        {
          "output_type": "stream",
          "text": [
            "[[1. 0. 0.]\n",
            " [0. 1. 0.]\n",
            " [0. 0. 1.]\n",
            " ...\n",
            " [0. 1. 0.]\n",
            " [0. 1. 0.]\n",
            " [0. 0. 1.]]\n"
          ],
          "name": "stdout"
        }
      ]
    },
    {
      "cell_type": "markdown",
      "metadata": {
        "colab_type": "text",
        "id": "n_25ZEY6-63n"
      },
      "source": [
        "## Build the ANN for Breed Category"
      ]
    },
    {
      "cell_type": "code",
      "metadata": {
        "id": "tbHOjLFl65cX",
        "colab_type": "code",
        "colab": {}
      },
      "source": [
        "ann = tf.keras.models.Sequential()"
      ],
      "execution_count": 349,
      "outputs": []
    },
    {
      "cell_type": "code",
      "metadata": {
        "id": "OgYoHKyL_EWf",
        "colab_type": "code",
        "colab": {}
      },
      "source": [
        "ann.add(tf.keras.layers.Dense(units=64, activation='relu'))"
      ],
      "execution_count": 350,
      "outputs": []
    },
    {
      "cell_type": "code",
      "metadata": {
        "id": "UYKfXK5__Y2C",
        "colab_type": "code",
        "colab": {}
      },
      "source": [
        "ann.add(tf.keras.layers.Dense(units=64, activation='relu'))"
      ],
      "execution_count": 351,
      "outputs": []
    },
    {
      "cell_type": "code",
      "metadata": {
        "colab_type": "code",
        "id": "5Oka4ie_A3iD",
        "colab": {}
      },
      "source": [
        "ann.add(tf.keras.layers.Dense(units=64, activation='relu'))"
      ],
      "execution_count": 352,
      "outputs": []
    },
    {
      "cell_type": "code",
      "metadata": {
        "id": "c_mUIZM2_jcx",
        "colab_type": "code",
        "colab": {}
      },
      "source": [
        "ann.add(tf.keras.layers.Dense(units=3,activation='softmax'))"
      ],
      "execution_count": 353,
      "outputs": []
    },
    {
      "cell_type": "code",
      "metadata": {
        "id": "6Gjg_K04BSJn",
        "colab_type": "code",
        "colab": {}
      },
      "source": [
        "ann.compile(optimizer='adam', loss='categorical_crossentropy', metrics=['categorical_accuracy'])"
      ],
      "execution_count": 354,
      "outputs": []
    },
    {
      "cell_type": "code",
      "metadata": {
        "id": "BtbzA6qBEJxr",
        "colab_type": "code",
        "colab": {
          "base_uri": "https://localhost:8080/",
          "height": 1000
        },
        "outputId": "f4324023-0356-438b-c641-936e166b64d9"
      },
      "source": [
        "ann.fit(X_train, y_train, batch_size=32, epochs=100)"
      ],
      "execution_count": 355,
      "outputs": [
        {
          "output_type": "stream",
          "text": [
            "Epoch 1/100\n",
            "471/471 [==============================] - 1s 1ms/step - loss: 0.2990 - categorical_accuracy: 0.8598\n",
            "Epoch 2/100\n",
            "471/471 [==============================] - 1s 1ms/step - loss: 0.1570 - categorical_accuracy: 0.9004\n",
            "Epoch 3/100\n",
            "471/471 [==============================] - 1s 1ms/step - loss: 0.1534 - categorical_accuracy: 0.9011\n",
            "Epoch 4/100\n",
            "471/471 [==============================] - 1s 1ms/step - loss: 0.1505 - categorical_accuracy: 0.9035\n",
            "Epoch 5/100\n",
            "471/471 [==============================] - 1s 1ms/step - loss: 0.1487 - categorical_accuracy: 0.9048\n",
            "Epoch 6/100\n",
            "471/471 [==============================] - 1s 1ms/step - loss: 0.1465 - categorical_accuracy: 0.9073\n",
            "Epoch 7/100\n",
            "471/471 [==============================] - 1s 1ms/step - loss: 0.1466 - categorical_accuracy: 0.9061\n",
            "Epoch 8/100\n",
            "471/471 [==============================] - 1s 1ms/step - loss: 0.1457 - categorical_accuracy: 0.9069\n",
            "Epoch 9/100\n",
            "471/471 [==============================] - 1s 1ms/step - loss: 0.1440 - categorical_accuracy: 0.9125\n",
            "Epoch 10/100\n",
            "471/471 [==============================] - 1s 1ms/step - loss: 0.1442 - categorical_accuracy: 0.9093\n",
            "Epoch 11/100\n",
            "471/471 [==============================] - 1s 1ms/step - loss: 0.1428 - categorical_accuracy: 0.9127\n",
            "Epoch 12/100\n",
            "471/471 [==============================] - 1s 1ms/step - loss: 0.1426 - categorical_accuracy: 0.9117\n",
            "Epoch 13/100\n",
            "471/471 [==============================] - 1s 1ms/step - loss: 0.1414 - categorical_accuracy: 0.9143\n",
            "Epoch 14/100\n",
            "471/471 [==============================] - 1s 1ms/step - loss: 0.1403 - categorical_accuracy: 0.9144\n",
            "Epoch 15/100\n",
            "471/471 [==============================] - 1s 1ms/step - loss: 0.1404 - categorical_accuracy: 0.9127\n",
            "Epoch 16/100\n",
            "471/471 [==============================] - 1s 1ms/step - loss: 0.1399 - categorical_accuracy: 0.9134\n",
            "Epoch 17/100\n",
            "471/471 [==============================] - 1s 1ms/step - loss: 0.1391 - categorical_accuracy: 0.9150\n",
            "Epoch 18/100\n",
            "471/471 [==============================] - 1s 1ms/step - loss: 0.1382 - categorical_accuracy: 0.9157\n",
            "Epoch 19/100\n",
            "471/471 [==============================] - 1s 1ms/step - loss: 0.1378 - categorical_accuracy: 0.9160\n",
            "Epoch 20/100\n",
            "471/471 [==============================] - 1s 1ms/step - loss: 0.1375 - categorical_accuracy: 0.9156\n",
            "Epoch 21/100\n",
            "471/471 [==============================] - 1s 1ms/step - loss: 0.1358 - categorical_accuracy: 0.9190\n",
            "Epoch 22/100\n",
            "471/471 [==============================] - 1s 1ms/step - loss: 0.1353 - categorical_accuracy: 0.9202\n",
            "Epoch 23/100\n",
            "471/471 [==============================] - 1s 1ms/step - loss: 0.1351 - categorical_accuracy: 0.9191\n",
            "Epoch 24/100\n",
            "471/471 [==============================] - 1s 1ms/step - loss: 0.1342 - categorical_accuracy: 0.9206\n",
            "Epoch 25/100\n",
            "471/471 [==============================] - 1s 1ms/step - loss: 0.1336 - categorical_accuracy: 0.9210\n",
            "Epoch 26/100\n",
            "471/471 [==============================] - 1s 1ms/step - loss: 0.1327 - categorical_accuracy: 0.9202\n",
            "Epoch 27/100\n",
            "471/471 [==============================] - 1s 1ms/step - loss: 0.1316 - categorical_accuracy: 0.9228\n",
            "Epoch 28/100\n",
            "471/471 [==============================] - 1s 1ms/step - loss: 0.1303 - categorical_accuracy: 0.9241\n",
            "Epoch 29/100\n",
            "471/471 [==============================] - 1s 1ms/step - loss: 0.1311 - categorical_accuracy: 0.9223\n",
            "Epoch 30/100\n",
            "471/471 [==============================] - 1s 1ms/step - loss: 0.1294 - categorical_accuracy: 0.9245\n",
            "Epoch 31/100\n",
            "471/471 [==============================] - 1s 1ms/step - loss: 0.1293 - categorical_accuracy: 0.9239\n",
            "Epoch 32/100\n",
            "471/471 [==============================] - 1s 1ms/step - loss: 0.1276 - categorical_accuracy: 0.9263\n",
            "Epoch 33/100\n",
            "471/471 [==============================] - 1s 1ms/step - loss: 0.1277 - categorical_accuracy: 0.9273\n",
            "Epoch 34/100\n",
            "471/471 [==============================] - 1s 1ms/step - loss: 0.1263 - categorical_accuracy: 0.9269\n",
            "Epoch 35/100\n",
            "471/471 [==============================] - 1s 1ms/step - loss: 0.1260 - categorical_accuracy: 0.9261\n",
            "Epoch 36/100\n",
            "471/471 [==============================] - 1s 1ms/step - loss: 0.1261 - categorical_accuracy: 0.9261\n",
            "Epoch 37/100\n",
            "471/471 [==============================] - 1s 1ms/step - loss: 0.1245 - categorical_accuracy: 0.9274\n",
            "Epoch 38/100\n",
            "471/471 [==============================] - 1s 1ms/step - loss: 0.1244 - categorical_accuracy: 0.9281\n",
            "Epoch 39/100\n",
            "471/471 [==============================] - 1s 1ms/step - loss: 0.1238 - categorical_accuracy: 0.9294\n",
            "Epoch 40/100\n",
            "471/471 [==============================] - 1s 1ms/step - loss: 0.1232 - categorical_accuracy: 0.9271\n",
            "Epoch 41/100\n",
            "471/471 [==============================] - 1s 1ms/step - loss: 0.1225 - categorical_accuracy: 0.9291\n",
            "Epoch 42/100\n",
            "471/471 [==============================] - 1s 1ms/step - loss: 0.1221 - categorical_accuracy: 0.9289\n",
            "Epoch 43/100\n",
            "471/471 [==============================] - 1s 1ms/step - loss: 0.1217 - categorical_accuracy: 0.9275\n",
            "Epoch 44/100\n",
            "471/471 [==============================] - 1s 1ms/step - loss: 0.1205 - categorical_accuracy: 0.9287\n",
            "Epoch 45/100\n",
            "471/471 [==============================] - 1s 1ms/step - loss: 0.1208 - categorical_accuracy: 0.9297\n",
            "Epoch 46/100\n",
            "471/471 [==============================] - 1s 1ms/step - loss: 0.1199 - categorical_accuracy: 0.9304\n",
            "Epoch 47/100\n",
            "471/471 [==============================] - 1s 1ms/step - loss: 0.1188 - categorical_accuracy: 0.9302\n",
            "Epoch 48/100\n",
            "471/471 [==============================] - 1s 1ms/step - loss: 0.1182 - categorical_accuracy: 0.9322\n",
            "Epoch 49/100\n",
            "471/471 [==============================] - 1s 1ms/step - loss: 0.1178 - categorical_accuracy: 0.9302\n",
            "Epoch 50/100\n",
            "471/471 [==============================] - 1s 1ms/step - loss: 0.1176 - categorical_accuracy: 0.9300\n",
            "Epoch 51/100\n",
            "471/471 [==============================] - 1s 1ms/step - loss: 0.1172 - categorical_accuracy: 0.9314\n",
            "Epoch 52/100\n",
            "471/471 [==============================] - 1s 1ms/step - loss: 0.1157 - categorical_accuracy: 0.9337\n",
            "Epoch 53/100\n",
            "471/471 [==============================] - 1s 1ms/step - loss: 0.1163 - categorical_accuracy: 0.9325\n",
            "Epoch 54/100\n",
            "471/471 [==============================] - 1s 1ms/step - loss: 0.1148 - categorical_accuracy: 0.9346\n",
            "Epoch 55/100\n",
            "471/471 [==============================] - 1s 1ms/step - loss: 0.1143 - categorical_accuracy: 0.9349\n",
            "Epoch 56/100\n",
            "471/471 [==============================] - 1s 1ms/step - loss: 0.1149 - categorical_accuracy: 0.9338\n",
            "Epoch 57/100\n",
            "471/471 [==============================] - 1s 1ms/step - loss: 0.1127 - categorical_accuracy: 0.9331\n",
            "Epoch 58/100\n",
            "471/471 [==============================] - 1s 1ms/step - loss: 0.1142 - categorical_accuracy: 0.9347\n",
            "Epoch 59/100\n",
            "471/471 [==============================] - 1s 1ms/step - loss: 0.1122 - categorical_accuracy: 0.9359\n",
            "Epoch 60/100\n",
            "471/471 [==============================] - 1s 1ms/step - loss: 0.1120 - categorical_accuracy: 0.9362\n",
            "Epoch 61/100\n",
            "471/471 [==============================] - 1s 1ms/step - loss: 0.1119 - categorical_accuracy: 0.9356\n",
            "Epoch 62/100\n",
            "471/471 [==============================] - 1s 1ms/step - loss: 0.1121 - categorical_accuracy: 0.9364\n",
            "Epoch 63/100\n",
            "471/471 [==============================] - 1s 1ms/step - loss: 0.1121 - categorical_accuracy: 0.9364\n",
            "Epoch 64/100\n",
            "471/471 [==============================] - 1s 1ms/step - loss: 0.1098 - categorical_accuracy: 0.9365\n",
            "Epoch 65/100\n",
            "471/471 [==============================] - 1s 1ms/step - loss: 0.1111 - categorical_accuracy: 0.9373\n",
            "Epoch 66/100\n",
            "471/471 [==============================] - 1s 1ms/step - loss: 0.1088 - categorical_accuracy: 0.9381\n",
            "Epoch 67/100\n",
            "471/471 [==============================] - 1s 1ms/step - loss: 0.1084 - categorical_accuracy: 0.9379\n",
            "Epoch 68/100\n",
            "471/471 [==============================] - 1s 1ms/step - loss: 0.1078 - categorical_accuracy: 0.9386\n",
            "Epoch 69/100\n",
            "471/471 [==============================] - 1s 1ms/step - loss: 0.1079 - categorical_accuracy: 0.9380\n",
            "Epoch 70/100\n",
            "471/471 [==============================] - 1s 1ms/step - loss: 0.1072 - categorical_accuracy: 0.9409\n",
            "Epoch 71/100\n",
            "471/471 [==============================] - 1s 1ms/step - loss: 0.1075 - categorical_accuracy: 0.9399\n",
            "Epoch 72/100\n",
            "471/471 [==============================] - 1s 1ms/step - loss: 0.1068 - categorical_accuracy: 0.9385\n",
            "Epoch 73/100\n",
            "471/471 [==============================] - 1s 1ms/step - loss: 0.1058 - categorical_accuracy: 0.9409\n",
            "Epoch 74/100\n",
            "471/471 [==============================] - 1s 1ms/step - loss: 0.1047 - categorical_accuracy: 0.9395\n",
            "Epoch 75/100\n",
            "471/471 [==============================] - 1s 1ms/step - loss: 0.1049 - categorical_accuracy: 0.9405\n",
            "Epoch 76/100\n",
            "471/471 [==============================] - 1s 1ms/step - loss: 0.1053 - categorical_accuracy: 0.9415\n",
            "Epoch 77/100\n",
            "471/471 [==============================] - 1s 1ms/step - loss: 0.1063 - categorical_accuracy: 0.9396\n",
            "Epoch 78/100\n",
            "471/471 [==============================] - 1s 1ms/step - loss: 0.1051 - categorical_accuracy: 0.9399\n",
            "Epoch 79/100\n",
            "471/471 [==============================] - 1s 1ms/step - loss: 0.1040 - categorical_accuracy: 0.9415\n",
            "Epoch 80/100\n",
            "471/471 [==============================] - 1s 1ms/step - loss: 0.1034 - categorical_accuracy: 0.9425\n",
            "Epoch 81/100\n",
            "471/471 [==============================] - 1s 1ms/step - loss: 0.1021 - categorical_accuracy: 0.9424\n",
            "Epoch 82/100\n",
            "471/471 [==============================] - 1s 1ms/step - loss: 0.1018 - categorical_accuracy: 0.9419\n",
            "Epoch 83/100\n",
            "471/471 [==============================] - 1s 1ms/step - loss: 0.1023 - categorical_accuracy: 0.9433\n",
            "Epoch 84/100\n",
            "471/471 [==============================] - 1s 1ms/step - loss: 0.1015 - categorical_accuracy: 0.9421\n",
            "Epoch 85/100\n",
            "471/471 [==============================] - 1s 1ms/step - loss: 0.1005 - categorical_accuracy: 0.9425\n",
            "Epoch 86/100\n",
            "471/471 [==============================] - 1s 1ms/step - loss: 0.1006 - categorical_accuracy: 0.9415\n",
            "Epoch 87/100\n",
            "471/471 [==============================] - 1s 1ms/step - loss: 0.1010 - categorical_accuracy: 0.9439\n",
            "Epoch 88/100\n",
            "471/471 [==============================] - 1s 1ms/step - loss: 0.0984 - categorical_accuracy: 0.9441\n",
            "Epoch 89/100\n",
            "471/471 [==============================] - 1s 1ms/step - loss: 0.0997 - categorical_accuracy: 0.9433\n",
            "Epoch 90/100\n",
            "471/471 [==============================] - 1s 1ms/step - loss: 0.0998 - categorical_accuracy: 0.9444\n",
            "Epoch 91/100\n",
            "471/471 [==============================] - 1s 1ms/step - loss: 0.0984 - categorical_accuracy: 0.9454\n",
            "Epoch 92/100\n",
            "471/471 [==============================] - 1s 1ms/step - loss: 0.0991 - categorical_accuracy: 0.9447\n",
            "Epoch 93/100\n",
            "471/471 [==============================] - 1s 1ms/step - loss: 0.0986 - categorical_accuracy: 0.9442\n",
            "Epoch 94/100\n",
            "471/471 [==============================] - 1s 1ms/step - loss: 0.0974 - categorical_accuracy: 0.9467\n",
            "Epoch 95/100\n",
            "471/471 [==============================] - 1s 1ms/step - loss: 0.0994 - categorical_accuracy: 0.9454\n",
            "Epoch 96/100\n",
            "471/471 [==============================] - 1s 1ms/step - loss: 0.0986 - categorical_accuracy: 0.9444\n",
            "Epoch 97/100\n",
            "471/471 [==============================] - 1s 1ms/step - loss: 0.0988 - categorical_accuracy: 0.9447\n",
            "Epoch 98/100\n",
            "471/471 [==============================] - 1s 1ms/step - loss: 0.0969 - categorical_accuracy: 0.9462\n",
            "Epoch 99/100\n",
            "471/471 [==============================] - 1s 1ms/step - loss: 0.0955 - categorical_accuracy: 0.9468\n",
            "Epoch 100/100\n",
            "471/471 [==============================] - 1s 1ms/step - loss: 0.0962 - categorical_accuracy: 0.9461\n"
          ],
          "name": "stdout"
        },
        {
          "output_type": "execute_result",
          "data": {
            "text/plain": [
              "<tensorflow.python.keras.callbacks.History at 0x7f15608d5d68>"
            ]
          },
          "metadata": {
            "tags": []
          },
          "execution_count": 355
        }
      ]
    },
    {
      "cell_type": "code",
      "metadata": {
        "id": "qZIH57qgNo21",
        "colab_type": "code",
        "colab": {}
      },
      "source": [
        "X_test[:,:5] = sc_X.transform(X_test[:,:5])"
      ],
      "execution_count": 357,
      "outputs": []
    },
    {
      "cell_type": "code",
      "metadata": {
        "id": "BCepasniEcGm",
        "colab_type": "code",
        "colab": {
          "base_uri": "https://localhost:8080/",
          "height": 136
        },
        "outputId": "bb3ec014-2c35-4015-bc70-8b21d3afbc28"
      },
      "source": [
        "y_pred = ann.predict(X_test)\n",
        "print(y_pred)"
      ],
      "execution_count": 362,
      "outputs": [
        {
          "output_type": "stream",
          "text": [
            "[[1.00000000e+00 1.91509881e-22 0.00000000e+00]\n",
            " [0.00000000e+00 1.00000000e+00 0.00000000e+00]\n",
            " [9.90512550e-01 9.48741939e-03 1.61775127e-08]\n",
            " ...\n",
            " [0.00000000e+00 1.00000000e+00 0.00000000e+00]\n",
            " [7.28043830e-08 5.60059879e-15 9.99999881e-01]\n",
            " [1.07526015e-16 1.29327399e-27 1.00000000e+00]]\n"
          ],
          "name": "stdout"
        }
      ]
    },
    {
      "cell_type": "code",
      "metadata": {
        "id": "7WwHkqqxN4pO",
        "colab_type": "code",
        "colab": {
          "base_uri": "https://localhost:8080/",
          "height": 136
        },
        "outputId": "385279b5-75e9-4446-ae19-b61bfb323e8e"
      },
      "source": [
        "#y_pred = sc_y.inverse_transform(y_pred)\n",
        "#print(y_pred)"
      ],
      "execution_count": 359,
      "outputs": [
        {
          "output_type": "stream",
          "text": [
            "[[0.9789672  0.4434194  0.07718856]\n",
            " [0.47939205 0.9402077  0.07718856]\n",
            " [0.9742275  0.44813263 0.07718856]\n",
            " ...\n",
            " [0.47939205 0.9402077  0.07718856]\n",
            " [0.47939208 0.4434194  0.34407893]\n",
            " [0.47939205 0.4434194  0.34407896]]\n"
          ],
          "name": "stdout"
        }
      ]
    },
    {
      "cell_type": "code",
      "metadata": {
        "id": "XNTUkz0yN9kv",
        "colab_type": "code",
        "colab": {
          "base_uri": "https://localhost:8080/",
          "height": 136
        },
        "outputId": "182b35da-1e5d-4396-e373-c13328f9ff7d"
      },
      "source": [
        "np.concatenate((enc_y1.inverse_transform(y_pred), enc_y1.inverse_transform(y_test)), axis =1)"
      ],
      "execution_count": 363,
      "outputs": [
        {
          "output_type": "execute_result",
          "data": {
            "text/plain": [
              "array([[0., 0.],\n",
              "       [1., 1.],\n",
              "       [0., 1.],\n",
              "       ...,\n",
              "       [1., 1.],\n",
              "       [2., 2.],\n",
              "       [2., 2.]])"
            ]
          },
          "metadata": {
            "tags": []
          },
          "execution_count": 363
        }
      ]
    },
    {
      "cell_type": "code",
      "metadata": {
        "id": "efd3hyGQMJSo",
        "colab_type": "code",
        "colab": {
          "base_uri": "https://localhost:8080/",
          "height": 68
        },
        "outputId": "de30bf94-4e3c-41eb-a9b9-f16834d7c1c7"
      },
      "source": [
        "confusion_matrix(enc_y1.inverse_transform(y_test), enc_y1.inverse_transform(y_pred))"
      ],
      "execution_count": 364,
      "outputs": [
        {
          "output_type": "execute_result",
          "data": {
            "text/plain": [
              "array([[1650,  127,    0],\n",
              "       [ 245, 1431,    0],\n",
              "       [   0,    0,  314]])"
            ]
          },
          "metadata": {
            "tags": []
          },
          "execution_count": 364
        }
      ]
    },
    {
      "cell_type": "code",
      "metadata": {
        "id": "03XAuW8XM2Lh",
        "colab_type": "code",
        "colab": {
          "base_uri": "https://localhost:8080/",
          "height": 34
        },
        "outputId": "6d45e04d-2e4e-4bae-ea84-a116ac05539e"
      },
      "source": [
        "f1_score(enc_y1.inverse_transform(y_test), enc_y1.inverse_transform(y_pred), average='weighted')"
      ],
      "execution_count": 368,
      "outputs": [
        {
          "output_type": "execute_result",
          "data": {
            "text/plain": [
              "0.9010327799982764"
            ]
          },
          "metadata": {
            "tags": []
          },
          "execution_count": 368
        }
      ]
    },
    {
      "cell_type": "code",
      "metadata": {
        "id": "kqW_nBbMQBty",
        "colab_type": "code",
        "colab": {}
      },
      "source": [
        "ann.save(\"breed_category_ann.h5\")"
      ],
      "execution_count": 374,
      "outputs": []
    },
    {
      "cell_type": "markdown",
      "metadata": {
        "id": "FWUFMLsPQvGp",
        "colab_type": "text"
      },
      "source": [
        "## Build the ANN for Pet Category"
      ]
    },
    {
      "cell_type": "code",
      "metadata": {
        "id": "GWWk-IYiQ12E",
        "colab_type": "code",
        "colab": {}
      },
      "source": [
        ""
      ],
      "execution_count": null,
      "outputs": []
    }
  ]
}